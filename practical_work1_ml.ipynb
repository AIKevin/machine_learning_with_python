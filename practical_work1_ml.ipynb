{
  "nbformat": 4,
  "nbformat_minor": 0,
  "metadata": {
    "colab": {
      "name": "practical_work1_ml.ipynb",
      "version": "0.3.2",
      "provenance": [],
      "collapsed_sections": [],
      "include_colab_link": true
    },
    "kernelspec": {
      "name": "python3",
      "display_name": "Python 3"
    }
  },
  "cells": [
    {
      "cell_type": "markdown",
      "metadata": {
        "id": "view-in-github",
        "colab_type": "text"
      },
      "source": [
        "<a href=\"https://colab.research.google.com/github/AIKevin/machine_learning_with_python/blob/master/practical_work1_ml.ipynb\" target=\"_parent\"><img src=\"https://colab.research.google.com/assets/colab-badge.svg\" alt=\"Open In Colab\"/></a>"
      ]
    },
    {
      "cell_type": "markdown",
      "metadata": {
        "id": "vE53em59FXVU",
        "colab_type": "text"
      },
      "source": [
        "#Simple Linear Regression\n",
        "##PW1\n",
        "###Sci-Kit Learn\n",
        "\n"
      ]
    },
    {
      "cell_type": "markdown",
      "metadata": {
        "id": "IRkcmvrU5CuW",
        "colab_type": "text"
      },
      "source": [
        "##Introduction"
      ]
    },
    {
      "cell_type": "markdown",
      "metadata": {
        "id": "NsEe7tPz4_4I",
        "colab_type": "text"
      },
      "source": [
        "**Simple linear regression** is a very straightforward approach for predicting a quantitative response Y on the basis of a single predictor variable X. It assumes that there is approximately a linear relationship between X and Y. Mathematically, we can write this linear relationship as\n",
        "\n",
        "*Y=β0+β1X+ϵ*\n",
        "\n",
        "*Y≈β0+β1X*\n",
        "\n",
        "where β0 and β1 are two unknown constants that represent the intercept and slope, also known as coefficients or parameters, and ϵ is the error term.\n",
        "\n",
        "Given some estimates  \n",
        "^β0\n",
        "  and  ^β1\n",
        "  for the model coefficients, we predict future inputs x using\n",
        "\n",
        "*ˆy= ^β0+ ^β1x*\n",
        "\n",
        "where  \n",
        "ˆy\n",
        "  indicates a prediction of Y on the basis of X=x. The hat symbol,  ^\n",
        " , denotes an estimated value."
      ]
    },
    {
      "cell_type": "markdown",
      "metadata": {
        "id": "Ab3i2vf04P2Y",
        "colab_type": "text"
      },
      "source": [
        "##Table of Contents\n",
        "\n",
        "\n",
        "1.   Installing Dependencies\n",
        "2.   Data Loading, Preprocessing and Visualisization\n",
        "3.   Linear Regression on the EU dataset\n",
        "4.   Linear Regression on the Boston dataset\n",
        "\n"
      ]
    },
    {
      "cell_type": "markdown",
      "metadata": {
        "id": "Klo6zbKqGBI7",
        "colab_type": "text"
      },
      "source": [
        "##1.Installing dependencies"
      ]
    },
    {
      "cell_type": "markdown",
      "metadata": {
        "id": "UgxF3SlxGG-z",
        "colab_type": "text"
      },
      "source": [
        "Matplotlib is a library allowing us to make plots of data\n",
        "\n",
        "Pandas is a library allowing us to use dataframe, very convenient to manipulate datasets\n",
        "\n",
        "Numpy is a library allowing us to manipulate arrays, convenient to apply operations on matrix of data\n"
      ]
    },
    {
      "cell_type": "code",
      "metadata": {
        "id": "tiubayD1Af4l",
        "colab_type": "code",
        "colab": {}
      },
      "source": [
        "import matplotlib.pyplot as plt\n",
        "import pandas as pd\n",
        "import pylab as pl\n",
        "import numpy as np\n",
        "%matplotlib inline"
      ],
      "execution_count": 0,
      "outputs": []
    },
    {
      "cell_type": "markdown",
      "metadata": {
        "id": "lmEqlF11G1Tg",
        "colab_type": "text"
      },
      "source": [
        "rpy2 is a library allowing us to handle RData files and import it into python"
      ]
    },
    {
      "cell_type": "code",
      "metadata": {
        "id": "1FT0pTY-GLnH",
        "colab_type": "code",
        "colab": {}
      },
      "source": [
        "from rpy2.robjects import r\n",
        "import rpy2.robjects.pandas2ri as pandas2ri"
      ],
      "execution_count": 0,
      "outputs": []
    },
    {
      "cell_type": "markdown",
      "metadata": {
        "id": "y-5ch3q52eTk",
        "colab_type": "text"
      },
      "source": [
        "## 2.Data Loading ,Preprocessing and Visualization"
      ]
    },
    {
      "cell_type": "markdown",
      "metadata": {
        "id": "HWJQBVM3_0RU",
        "colab_type": "text"
      },
      "source": [
        "###Data Loading\n",
        "\n",
        "We download the dataset online. No need to have it in local.\n",
        "\n",
        "We are going to employ the EU dataset. The EU dataset contains 28 rows with the member states of the European Union (Country), the number of seats assigned under different years (Seats2011, Seats2014), the Cambridge Compromise apportionment (CamCom2011), and the countries population (Population2010,Population2013)."
      ]
    },
    {
      "cell_type": "code",
      "metadata": {
        "id": "YeX7evag-AbC",
        "colab_type": "code",
        "outputId": "65193584-4d98-4599-aab1-1c06c3b2bb62",
        "colab": {
          "base_uri": "https://localhost:8080/",
          "height": 336
        }
      },
      "source": [
        "!wget -O EU.RData http://www.mghassany.com/MLcourse/datasets/EU.RData\n",
        "\n",
        "\n",
        "EU=r.load(\"EU.RData\")\n",
        "EU=pandas2ri.ri2py_dataframe(r['EU'])"
      ],
      "execution_count": 3,
      "outputs": [
        {
          "output_type": "stream",
          "text": [
            "--2019-09-09 19:00:53--  http://www.mghassany.com/MLcourse/datasets/EU.RData\n",
            "Resolving www.mghassany.com (www.mghassany.com)... 185.199.111.153, 185.199.109.153, 185.199.110.153, ...\n",
            "Connecting to www.mghassany.com (www.mghassany.com)|185.199.111.153|:80... connected.\n",
            "HTTP request sent, awaiting response... 301 Moved Permanently\n",
            "Location: https://www.mghassany.com/MLcourse/datasets/EU.RData [following]\n",
            "--2019-09-09 19:00:54--  https://www.mghassany.com/MLcourse/datasets/EU.RData\n",
            "Connecting to www.mghassany.com (www.mghassany.com)|185.199.111.153|:443... connected.\n",
            "HTTP request sent, awaiting response... 200 OK\n",
            "Length: 50903 (50K) [application/octet-stream]\n",
            "Saving to: ‘EU.RData’\n",
            "\n",
            "\rEU.RData              0%[                    ]       0  --.-KB/s               \rEU.RData            100%[===================>]  49.71K  --.-KB/s    in 0.03s   \n",
            "\n",
            "2019-09-09 19:00:54 (1.93 MB/s) - ‘EU.RData’ saved [50903/50903]\n",
            "\n"
          ],
          "name": "stdout"
        },
        {
          "output_type": "stream",
          "text": [
            "/usr/local/lib/python3.6/dist-packages/rpy2/robjects/pandas2ri.py:191: FutureWarning: from_items is deprecated. Please use DataFrame.from_dict(dict(items), ...) instead. DataFrame.from_dict(OrderedDict(items)) may be used to preserve the key order.\n",
            "  res = PandasDataFrame.from_items(items)\n"
          ],
          "name": "stderr"
        }
      ]
    },
    {
      "cell_type": "markdown",
      "metadata": {
        "id": "VVFH0i60Uln6",
        "colab_type": "text"
      },
      "source": [
        "###Data Preprocessing\n",
        "We must drop one line because it is a NaN that has been translated into a very big negative value that can modify our analysis."
      ]
    },
    {
      "cell_type": "code",
      "metadata": {
        "id": "UJb034XtToUR",
        "colab_type": "code",
        "colab": {}
      },
      "source": [
        "EU=EU.drop(20)"
      ],
      "execution_count": 0,
      "outputs": []
    },
    {
      "cell_type": "markdown",
      "metadata": {
        "id": "xMWWY0FzADNC",
        "colab_type": "text"
      },
      "source": [
        "###Dataset Dimension and Visualization\n",
        "\n",
        "Let's explore the dataset\n",
        "\n",
        "\n"
      ]
    },
    {
      "cell_type": "code",
      "metadata": {
        "id": "_lbC28sO_kPk",
        "colab_type": "code",
        "outputId": "aa7b405a-1010-46a8-d086-4c8b946526e3",
        "colab": {
          "base_uri": "https://localhost:8080/",
          "height": 633
        }
      },
      "source": [
        "print(\"HEAD\")\n",
        "print(EU.head(28))\n",
        "print(\"SHAPE\")\n",
        "print(EU.shape)\n",
        "print(\"Column Names\")\n",
        "print(EU.columns)"
      ],
      "execution_count": 5,
      "outputs": [
        {
          "output_type": "stream",
          "text": [
            "HEAD\n",
            "    Population2010  Seats2011  CamCom2011  Population2013  Seats2014\n",
            "0         81802257         99          96        80523746         96\n",
            "1         64714074         74          85        65633194         74\n",
            "2         62008048         73          81        63896071         73\n",
            "3         60340328         73          79        59685227         73\n",
            "4         45989016         54          62        46704308         54\n",
            "5         38167329         51          52        38533299         51\n",
            "6         21462186         33          32        20020074         32\n",
            "7         16574989         26          26        16779575         26\n",
            "8         11305118         22          19        11161642         21\n",
            "9         10839905         22          19        11062508         21\n",
            "10        10637713         22          18        10516125         21\n",
            "11        10506813         22          18        10487289         21\n",
            "12        10014324         22          18         9908798         21\n",
            "13         9340682         20          17         9555893         20\n",
            "14         8375290         19          16         8451860         18\n",
            "15         7563710         18          15         7284552         17\n",
            "16         5534738         13          12         5602628         13\n",
            "17         5424925         13          12         5426674         13\n",
            "18         5351427         13          12         5410836         13\n",
            "19         4467854         12          11         4591087         11\n",
            "21         3329039         12          10         2971905         11\n",
            "22         2248374          9           8         2058821          8\n",
            "23         2046976          8           8         2023825          8\n",
            "24         1340127          6           7         1324814          6\n",
            "25          803147          6           6          865878          6\n",
            "26          502066          6           6          537039          6\n",
            "27          412970          6           6          421364          6\n",
            "SHAPE\n",
            "(27, 5)\n",
            "Column Names\n",
            "Index(['Population2010', 'Seats2011', 'CamCom2011', 'Population2013',\n",
            "       'Seats2014'],\n",
            "      dtype='object')\n"
          ],
          "name": "stdout"
        }
      ]
    },
    {
      "cell_type": "markdown",
      "metadata": {
        "id": "NSff7B2aN0xX",
        "colab_type": "text"
      },
      "source": [
        "Some basic stats about the Dataset"
      ]
    },
    {
      "cell_type": "code",
      "metadata": {
        "id": "BdvZ164JAZQK",
        "colab_type": "code",
        "outputId": "07504ff0-7153-4817-f7b2-4b89862f447b",
        "colab": {
          "base_uri": "https://localhost:8080/",
          "height": 284
        }
      },
      "source": [
        "EU.describe()"
      ],
      "execution_count": 6,
      "outputs": [
        {
          "output_type": "execute_result",
          "data": {
            "text/html": [
              "<div>\n",
              "<style scoped>\n",
              "    .dataframe tbody tr th:only-of-type {\n",
              "        vertical-align: middle;\n",
              "    }\n",
              "\n",
              "    .dataframe tbody tr th {\n",
              "        vertical-align: top;\n",
              "    }\n",
              "\n",
              "    .dataframe thead th {\n",
              "        text-align: right;\n",
              "    }\n",
              "</style>\n",
              "<table border=\"1\" class=\"dataframe\">\n",
              "  <thead>\n",
              "    <tr style=\"text-align: right;\">\n",
              "      <th></th>\n",
              "      <th>Population2010</th>\n",
              "      <th>Seats2011</th>\n",
              "      <th>CamCom2011</th>\n",
              "      <th>Population2013</th>\n",
              "      <th>Seats2014</th>\n",
              "    </tr>\n",
              "  </thead>\n",
              "  <tbody>\n",
              "    <tr>\n",
              "      <th>count</th>\n",
              "      <td>2.700000e+01</td>\n",
              "      <td>27.000000</td>\n",
              "      <td>27.000000</td>\n",
              "      <td>2.700000e+01</td>\n",
              "      <td>27.000000</td>\n",
              "    </tr>\n",
              "    <tr>\n",
              "      <th>mean</th>\n",
              "      <td>1.855939e+07</td>\n",
              "      <td>27.925926</td>\n",
              "      <td>27.814815</td>\n",
              "      <td>1.857182e+07</td>\n",
              "      <td>27.407407</td>\n",
              "    </tr>\n",
              "    <tr>\n",
              "      <th>std</th>\n",
              "      <td>2.344224e+07</td>\n",
              "      <td>25.381589</td>\n",
              "      <td>27.737835</td>\n",
              "      <td>2.352210e+07</td>\n",
              "      <td>25.210284</td>\n",
              "    </tr>\n",
              "    <tr>\n",
              "      <th>min</th>\n",
              "      <td>4.129700e+05</td>\n",
              "      <td>6.000000</td>\n",
              "      <td>6.000000</td>\n",
              "      <td>4.213640e+05</td>\n",
              "      <td>6.000000</td>\n",
              "    </tr>\n",
              "    <tr>\n",
              "      <th>25%</th>\n",
              "      <td>3.898446e+06</td>\n",
              "      <td>12.000000</td>\n",
              "      <td>10.500000</td>\n",
              "      <td>3.781496e+06</td>\n",
              "      <td>11.000000</td>\n",
              "    </tr>\n",
              "    <tr>\n",
              "      <th>50%</th>\n",
              "      <td>9.340682e+06</td>\n",
              "      <td>20.000000</td>\n",
              "      <td>17.000000</td>\n",
              "      <td>9.555893e+06</td>\n",
              "      <td>20.000000</td>\n",
              "    </tr>\n",
              "    <tr>\n",
              "      <th>75%</th>\n",
              "      <td>1.901859e+07</td>\n",
              "      <td>29.500000</td>\n",
              "      <td>29.000000</td>\n",
              "      <td>1.839982e+07</td>\n",
              "      <td>29.000000</td>\n",
              "    </tr>\n",
              "    <tr>\n",
              "      <th>max</th>\n",
              "      <td>8.180226e+07</td>\n",
              "      <td>99.000000</td>\n",
              "      <td>96.000000</td>\n",
              "      <td>8.052375e+07</td>\n",
              "      <td>96.000000</td>\n",
              "    </tr>\n",
              "  </tbody>\n",
              "</table>\n",
              "</div>"
            ],
            "text/plain": [
              "       Population2010  Seats2011  CamCom2011  Population2013  Seats2014\n",
              "count    2.700000e+01  27.000000   27.000000    2.700000e+01  27.000000\n",
              "mean     1.855939e+07  27.925926   27.814815    1.857182e+07  27.407407\n",
              "std      2.344224e+07  25.381589   27.737835    2.352210e+07  25.210284\n",
              "min      4.129700e+05   6.000000    6.000000    4.213640e+05   6.000000\n",
              "25%      3.898446e+06  12.000000   10.500000    3.781496e+06  11.000000\n",
              "50%      9.340682e+06  20.000000   17.000000    9.555893e+06  20.000000\n",
              "75%      1.901859e+07  29.500000   29.000000    1.839982e+07  29.000000\n",
              "max      8.180226e+07  99.000000   96.000000    8.052375e+07  96.000000"
            ]
          },
          "metadata": {
            "tags": []
          },
          "execution_count": 6
        }
      ]
    },
    {
      "cell_type": "markdown",
      "metadata": {
        "id": "zvflIQL51QlP",
        "colab_type": "text"
      },
      "source": [
        "Let's take only two columns."
      ]
    },
    {
      "cell_type": "code",
      "metadata": {
        "id": "Eaes7KypNxOl",
        "colab_type": "code",
        "outputId": "48303689-19a5-4966-803f-11f1694a8fad",
        "colab": {
          "base_uri": "https://localhost:8080/",
          "height": 314
        }
      },
      "source": [
        "cdf = EU[['Seats2011','Population2010']]\n",
        "cdf.head(9)"
      ],
      "execution_count": 7,
      "outputs": [
        {
          "output_type": "execute_result",
          "data": {
            "text/html": [
              "<div>\n",
              "<style scoped>\n",
              "    .dataframe tbody tr th:only-of-type {\n",
              "        vertical-align: middle;\n",
              "    }\n",
              "\n",
              "    .dataframe tbody tr th {\n",
              "        vertical-align: top;\n",
              "    }\n",
              "\n",
              "    .dataframe thead th {\n",
              "        text-align: right;\n",
              "    }\n",
              "</style>\n",
              "<table border=\"1\" class=\"dataframe\">\n",
              "  <thead>\n",
              "    <tr style=\"text-align: right;\">\n",
              "      <th></th>\n",
              "      <th>Seats2011</th>\n",
              "      <th>Population2010</th>\n",
              "    </tr>\n",
              "  </thead>\n",
              "  <tbody>\n",
              "    <tr>\n",
              "      <th>0</th>\n",
              "      <td>99</td>\n",
              "      <td>81802257</td>\n",
              "    </tr>\n",
              "    <tr>\n",
              "      <th>1</th>\n",
              "      <td>74</td>\n",
              "      <td>64714074</td>\n",
              "    </tr>\n",
              "    <tr>\n",
              "      <th>2</th>\n",
              "      <td>73</td>\n",
              "      <td>62008048</td>\n",
              "    </tr>\n",
              "    <tr>\n",
              "      <th>3</th>\n",
              "      <td>73</td>\n",
              "      <td>60340328</td>\n",
              "    </tr>\n",
              "    <tr>\n",
              "      <th>4</th>\n",
              "      <td>54</td>\n",
              "      <td>45989016</td>\n",
              "    </tr>\n",
              "    <tr>\n",
              "      <th>5</th>\n",
              "      <td>51</td>\n",
              "      <td>38167329</td>\n",
              "    </tr>\n",
              "    <tr>\n",
              "      <th>6</th>\n",
              "      <td>33</td>\n",
              "      <td>21462186</td>\n",
              "    </tr>\n",
              "    <tr>\n",
              "      <th>7</th>\n",
              "      <td>26</td>\n",
              "      <td>16574989</td>\n",
              "    </tr>\n",
              "    <tr>\n",
              "      <th>8</th>\n",
              "      <td>22</td>\n",
              "      <td>11305118</td>\n",
              "    </tr>\n",
              "  </tbody>\n",
              "</table>\n",
              "</div>"
            ],
            "text/plain": [
              "   Seats2011  Population2010\n",
              "0         99        81802257\n",
              "1         74        64714074\n",
              "2         73        62008048\n",
              "3         73        60340328\n",
              "4         54        45989016\n",
              "5         51        38167329\n",
              "6         33        21462186\n",
              "7         26        16574989\n",
              "8         22        11305118"
            ]
          },
          "metadata": {
            "tags": []
          },
          "execution_count": 7
        }
      ]
    },
    {
      "cell_type": "markdown",
      "metadata": {
        "id": "T5XBmqJtHPyS",
        "colab_type": "text"
      },
      "source": [
        "##3.Linear Regression on the EU dataset\n",
        "We need to import the linear model to perform it on our dataset."
      ]
    },
    {
      "cell_type": "code",
      "metadata": {
        "id": "4zW8PnHfOjDb",
        "colab_type": "code",
        "outputId": "ca2e9ad6-6460-40eb-839e-bf327275e018",
        "colab": {
          "base_uri": "https://localhost:8080/",
          "height": 52
        }
      },
      "source": [
        "from sklearn import linear_model\n",
        "regr = linear_model.LinearRegression()\n",
        "train_x = np.asanyarray( EU[['Population2010']])\n",
        "train_y = np.asanyarray( EU[['Seats2011']])\n",
        "regr.fit (train_x, train_y)\n",
        "# The coefficients\n",
        "print ('Coefficients: ', regr.coef_)\n",
        "print ('Intercept: ',regr.intercept_)"
      ],
      "execution_count": 8,
      "outputs": [
        {
          "output_type": "stream",
          "text": [
            "Coefficients:  [[1.07848587e-06]]\n",
            "Intercept:  [7.90989023]\n"
          ],
          "name": "stdout"
        }
      ]
    },
    {
      "cell_type": "markdown",
      "metadata": {
        "id": "LVKcAecNZngo",
        "colab_type": "text"
      },
      "source": [
        "OK now let's load a bigger dataset."
      ]
    },
    {
      "cell_type": "markdown",
      "metadata": {
        "id": "54zz0od8HWIf",
        "colab_type": "text"
      },
      "source": [
        "##4.Linear Regression on the Boston dataset"
      ]
    },
    {
      "cell_type": "markdown",
      "metadata": {
        "id": "tBmqaHIP28Kj",
        "colab_type": "text"
      },
      "source": [
        "###4.1 Dataset\n",
        "\n",
        "Boston dataset is already loadable from a python library."
      ]
    },
    {
      "cell_type": "code",
      "metadata": {
        "id": "ZaBr8pPUaCPB",
        "colab_type": "code",
        "colab": {}
      },
      "source": [
        "from sklearn.datasets import load_boston"
      ],
      "execution_count": 0,
      "outputs": []
    },
    {
      "cell_type": "code",
      "metadata": {
        "id": "U24vqN6Vasis",
        "colab_type": "code",
        "colab": {}
      },
      "source": [
        "dataset= load_boston()"
      ],
      "execution_count": 0,
      "outputs": []
    },
    {
      "cell_type": "code",
      "metadata": {
        "id": "1TJVg6ZwdrTv",
        "colab_type": "code",
        "outputId": "ce12744e-1ee5-47bc-84e5-401b5177fb8f",
        "colab": {
          "base_uri": "https://localhost:8080/",
          "height": 738
        }
      },
      "source": [
        "print(dataset.data.shape)\n",
        "print(dataset.feature_names)\n",
        "print(dataset.target)\n",
        "print(type(dataset))"
      ],
      "execution_count": 11,
      "outputs": [
        {
          "output_type": "stream",
          "text": [
            "(506, 13)\n",
            "['CRIM' 'ZN' 'INDUS' 'CHAS' 'NOX' 'RM' 'AGE' 'DIS' 'RAD' 'TAX' 'PTRATIO'\n",
            " 'B' 'LSTAT']\n",
            "[24.  21.6 34.7 33.4 36.2 28.7 22.9 27.1 16.5 18.9 15.  18.9 21.7 20.4\n",
            " 18.2 19.9 23.1 17.5 20.2 18.2 13.6 19.6 15.2 14.5 15.6 13.9 16.6 14.8\n",
            " 18.4 21.  12.7 14.5 13.2 13.1 13.5 18.9 20.  21.  24.7 30.8 34.9 26.6\n",
            " 25.3 24.7 21.2 19.3 20.  16.6 14.4 19.4 19.7 20.5 25.  23.4 18.9 35.4\n",
            " 24.7 31.6 23.3 19.6 18.7 16.  22.2 25.  33.  23.5 19.4 22.  17.4 20.9\n",
            " 24.2 21.7 22.8 23.4 24.1 21.4 20.  20.8 21.2 20.3 28.  23.9 24.8 22.9\n",
            " 23.9 26.6 22.5 22.2 23.6 28.7 22.6 22.  22.9 25.  20.6 28.4 21.4 38.7\n",
            " 43.8 33.2 27.5 26.5 18.6 19.3 20.1 19.5 19.5 20.4 19.8 19.4 21.7 22.8\n",
            " 18.8 18.7 18.5 18.3 21.2 19.2 20.4 19.3 22.  20.3 20.5 17.3 18.8 21.4\n",
            " 15.7 16.2 18.  14.3 19.2 19.6 23.  18.4 15.6 18.1 17.4 17.1 13.3 17.8\n",
            " 14.  14.4 13.4 15.6 11.8 13.8 15.6 14.6 17.8 15.4 21.5 19.6 15.3 19.4\n",
            " 17.  15.6 13.1 41.3 24.3 23.3 27.  50.  50.  50.  22.7 25.  50.  23.8\n",
            " 23.8 22.3 17.4 19.1 23.1 23.6 22.6 29.4 23.2 24.6 29.9 37.2 39.8 36.2\n",
            " 37.9 32.5 26.4 29.6 50.  32.  29.8 34.9 37.  30.5 36.4 31.1 29.1 50.\n",
            " 33.3 30.3 34.6 34.9 32.9 24.1 42.3 48.5 50.  22.6 24.4 22.5 24.4 20.\n",
            " 21.7 19.3 22.4 28.1 23.7 25.  23.3 28.7 21.5 23.  26.7 21.7 27.5 30.1\n",
            " 44.8 50.  37.6 31.6 46.7 31.5 24.3 31.7 41.7 48.3 29.  24.  25.1 31.5\n",
            " 23.7 23.3 22.  20.1 22.2 23.7 17.6 18.5 24.3 20.5 24.5 26.2 24.4 24.8\n",
            " 29.6 42.8 21.9 20.9 44.  50.  36.  30.1 33.8 43.1 48.8 31.  36.5 22.8\n",
            " 30.7 50.  43.5 20.7 21.1 25.2 24.4 35.2 32.4 32.  33.2 33.1 29.1 35.1\n",
            " 45.4 35.4 46.  50.  32.2 22.  20.1 23.2 22.3 24.8 28.5 37.3 27.9 23.9\n",
            " 21.7 28.6 27.1 20.3 22.5 29.  24.8 22.  26.4 33.1 36.1 28.4 33.4 28.2\n",
            " 22.8 20.3 16.1 22.1 19.4 21.6 23.8 16.2 17.8 19.8 23.1 21.  23.8 23.1\n",
            " 20.4 18.5 25.  24.6 23.  22.2 19.3 22.6 19.8 17.1 19.4 22.2 20.7 21.1\n",
            " 19.5 18.5 20.6 19.  18.7 32.7 16.5 23.9 31.2 17.5 17.2 23.1 24.5 26.6\n",
            " 22.9 24.1 18.6 30.1 18.2 20.6 17.8 21.7 22.7 22.6 25.  19.9 20.8 16.8\n",
            " 21.9 27.5 21.9 23.1 50.  50.  50.  50.  50.  13.8 13.8 15.  13.9 13.3\n",
            " 13.1 10.2 10.4 10.9 11.3 12.3  8.8  7.2 10.5  7.4 10.2 11.5 15.1 23.2\n",
            "  9.7 13.8 12.7 13.1 12.5  8.5  5.   6.3  5.6  7.2 12.1  8.3  8.5  5.\n",
            " 11.9 27.9 17.2 27.5 15.  17.2 17.9 16.3  7.   7.2  7.5 10.4  8.8  8.4\n",
            " 16.7 14.2 20.8 13.4 11.7  8.3 10.2 10.9 11.   9.5 14.5 14.1 16.1 14.3\n",
            " 11.7 13.4  9.6  8.7  8.4 12.8 10.5 17.1 18.4 15.4 10.8 11.8 14.9 12.6\n",
            " 14.1 13.  13.4 15.2 16.1 17.8 14.9 14.1 12.7 13.5 14.9 20.  16.4 17.7\n",
            " 19.5 20.2 21.4 19.9 19.  19.1 19.1 20.1 19.9 19.6 23.2 29.8 13.8 13.3\n",
            " 16.7 12.  14.6 21.4 23.  23.7 25.  21.8 20.6 21.2 19.1 20.6 15.2  7.\n",
            "  8.1 13.6 20.1 21.8 24.5 23.1 19.7 18.3 21.2 17.5 16.8 22.4 20.6 23.9\n",
            " 22.  11.9]\n",
            "<class 'sklearn.utils.Bunch'>\n"
          ],
          "name": "stdout"
        }
      ]
    },
    {
      "cell_type": "markdown",
      "metadata": {
        "id": "nWuGBWJhHb-p",
        "colab_type": "text"
      },
      "source": [
        "We need to convert it into a pandas dataframe to manipulate the data and make our model.\n",
        "\n",
        "We split the dataset randomly in a 80/20 proportion."
      ]
    },
    {
      "cell_type": "code",
      "metadata": {
        "id": "2RsAArALdwPm",
        "colab_type": "code",
        "outputId": "03f57346-59f2-43df-df73-040304ca6842",
        "colab": {
          "base_uri": "https://localhost:8080/",
          "height": 34
        }
      },
      "source": [
        "boston=pd.DataFrame(dataset.data, columns=dataset.feature_names)\n",
        "boston[\"MEDV\"]=dataset.target\n",
        "msk = np.random.rand(len(boston)) < 0.8\n",
        "train = boston[msk]\n",
        "test = boston[~msk]\n",
        "print(type(boston))"
      ],
      "execution_count": 12,
      "outputs": [
        {
          "output_type": "stream",
          "text": [
            "<class 'pandas.core.frame.DataFrame'>\n"
          ],
          "name": "stdout"
        }
      ]
    },
    {
      "cell_type": "markdown",
      "metadata": {
        "id": "pMmO_VbgHrY2",
        "colab_type": "text"
      },
      "source": [
        "boston is now a dataframe, let's explore it a little bit"
      ]
    },
    {
      "cell_type": "code",
      "metadata": {
        "id": "Z2fz_KMS0ooo",
        "colab_type": "code",
        "outputId": "7cb9a342-2c76-4e7a-ad2f-a01d8f604b49",
        "colab": {
          "base_uri": "https://localhost:8080/",
          "height": 1000
        }
      },
      "source": [
        "print(boston.head)\n",
        "print(boston.columns)"
      ],
      "execution_count": 13,
      "outputs": [
        {
          "output_type": "stream",
          "text": [
            "<bound method NDFrame.head of          CRIM    ZN  INDUS  CHAS    NOX  ...    TAX  PTRATIO       B  LSTAT  MEDV\n",
            "0     0.00632  18.0   2.31   0.0  0.538  ...  296.0     15.3  396.90   4.98  24.0\n",
            "1     0.02731   0.0   7.07   0.0  0.469  ...  242.0     17.8  396.90   9.14  21.6\n",
            "2     0.02729   0.0   7.07   0.0  0.469  ...  242.0     17.8  392.83   4.03  34.7\n",
            "3     0.03237   0.0   2.18   0.0  0.458  ...  222.0     18.7  394.63   2.94  33.4\n",
            "4     0.06905   0.0   2.18   0.0  0.458  ...  222.0     18.7  396.90   5.33  36.2\n",
            "5     0.02985   0.0   2.18   0.0  0.458  ...  222.0     18.7  394.12   5.21  28.7\n",
            "6     0.08829  12.5   7.87   0.0  0.524  ...  311.0     15.2  395.60  12.43  22.9\n",
            "7     0.14455  12.5   7.87   0.0  0.524  ...  311.0     15.2  396.90  19.15  27.1\n",
            "8     0.21124  12.5   7.87   0.0  0.524  ...  311.0     15.2  386.63  29.93  16.5\n",
            "9     0.17004  12.5   7.87   0.0  0.524  ...  311.0     15.2  386.71  17.10  18.9\n",
            "10    0.22489  12.5   7.87   0.0  0.524  ...  311.0     15.2  392.52  20.45  15.0\n",
            "11    0.11747  12.5   7.87   0.0  0.524  ...  311.0     15.2  396.90  13.27  18.9\n",
            "12    0.09378  12.5   7.87   0.0  0.524  ...  311.0     15.2  390.50  15.71  21.7\n",
            "13    0.62976   0.0   8.14   0.0  0.538  ...  307.0     21.0  396.90   8.26  20.4\n",
            "14    0.63796   0.0   8.14   0.0  0.538  ...  307.0     21.0  380.02  10.26  18.2\n",
            "15    0.62739   0.0   8.14   0.0  0.538  ...  307.0     21.0  395.62   8.47  19.9\n",
            "16    1.05393   0.0   8.14   0.0  0.538  ...  307.0     21.0  386.85   6.58  23.1\n",
            "17    0.78420   0.0   8.14   0.0  0.538  ...  307.0     21.0  386.75  14.67  17.5\n",
            "18    0.80271   0.0   8.14   0.0  0.538  ...  307.0     21.0  288.99  11.69  20.2\n",
            "19    0.72580   0.0   8.14   0.0  0.538  ...  307.0     21.0  390.95  11.28  18.2\n",
            "20    1.25179   0.0   8.14   0.0  0.538  ...  307.0     21.0  376.57  21.02  13.6\n",
            "21    0.85204   0.0   8.14   0.0  0.538  ...  307.0     21.0  392.53  13.83  19.6\n",
            "22    1.23247   0.0   8.14   0.0  0.538  ...  307.0     21.0  396.90  18.72  15.2\n",
            "23    0.98843   0.0   8.14   0.0  0.538  ...  307.0     21.0  394.54  19.88  14.5\n",
            "24    0.75026   0.0   8.14   0.0  0.538  ...  307.0     21.0  394.33  16.30  15.6\n",
            "25    0.84054   0.0   8.14   0.0  0.538  ...  307.0     21.0  303.42  16.51  13.9\n",
            "26    0.67191   0.0   8.14   0.0  0.538  ...  307.0     21.0  376.88  14.81  16.6\n",
            "27    0.95577   0.0   8.14   0.0  0.538  ...  307.0     21.0  306.38  17.28  14.8\n",
            "28    0.77299   0.0   8.14   0.0  0.538  ...  307.0     21.0  387.94  12.80  18.4\n",
            "29    1.00245   0.0   8.14   0.0  0.538  ...  307.0     21.0  380.23  11.98  21.0\n",
            "..        ...   ...    ...   ...    ...  ...    ...      ...     ...    ...   ...\n",
            "476   4.87141   0.0  18.10   0.0  0.614  ...  666.0     20.2  396.21  18.68  16.7\n",
            "477  15.02340   0.0  18.10   0.0  0.614  ...  666.0     20.2  349.48  24.91  12.0\n",
            "478  10.23300   0.0  18.10   0.0  0.614  ...  666.0     20.2  379.70  18.03  14.6\n",
            "479  14.33370   0.0  18.10   0.0  0.614  ...  666.0     20.2  383.32  13.11  21.4\n",
            "480   5.82401   0.0  18.10   0.0  0.532  ...  666.0     20.2  396.90  10.74  23.0\n",
            "481   5.70818   0.0  18.10   0.0  0.532  ...  666.0     20.2  393.07   7.74  23.7\n",
            "482   5.73116   0.0  18.10   0.0  0.532  ...  666.0     20.2  395.28   7.01  25.0\n",
            "483   2.81838   0.0  18.10   0.0  0.532  ...  666.0     20.2  392.92  10.42  21.8\n",
            "484   2.37857   0.0  18.10   0.0  0.583  ...  666.0     20.2  370.73  13.34  20.6\n",
            "485   3.67367   0.0  18.10   0.0  0.583  ...  666.0     20.2  388.62  10.58  21.2\n",
            "486   5.69175   0.0  18.10   0.0  0.583  ...  666.0     20.2  392.68  14.98  19.1\n",
            "487   4.83567   0.0  18.10   0.0  0.583  ...  666.0     20.2  388.22  11.45  20.6\n",
            "488   0.15086   0.0  27.74   0.0  0.609  ...  711.0     20.1  395.09  18.06  15.2\n",
            "489   0.18337   0.0  27.74   0.0  0.609  ...  711.0     20.1  344.05  23.97   7.0\n",
            "490   0.20746   0.0  27.74   0.0  0.609  ...  711.0     20.1  318.43  29.68   8.1\n",
            "491   0.10574   0.0  27.74   0.0  0.609  ...  711.0     20.1  390.11  18.07  13.6\n",
            "492   0.11132   0.0  27.74   0.0  0.609  ...  711.0     20.1  396.90  13.35  20.1\n",
            "493   0.17331   0.0   9.69   0.0  0.585  ...  391.0     19.2  396.90  12.01  21.8\n",
            "494   0.27957   0.0   9.69   0.0  0.585  ...  391.0     19.2  396.90  13.59  24.5\n",
            "495   0.17899   0.0   9.69   0.0  0.585  ...  391.0     19.2  393.29  17.60  23.1\n",
            "496   0.28960   0.0   9.69   0.0  0.585  ...  391.0     19.2  396.90  21.14  19.7\n",
            "497   0.26838   0.0   9.69   0.0  0.585  ...  391.0     19.2  396.90  14.10  18.3\n",
            "498   0.23912   0.0   9.69   0.0  0.585  ...  391.0     19.2  396.90  12.92  21.2\n",
            "499   0.17783   0.0   9.69   0.0  0.585  ...  391.0     19.2  395.77  15.10  17.5\n",
            "500   0.22438   0.0   9.69   0.0  0.585  ...  391.0     19.2  396.90  14.33  16.8\n",
            "501   0.06263   0.0  11.93   0.0  0.573  ...  273.0     21.0  391.99   9.67  22.4\n",
            "502   0.04527   0.0  11.93   0.0  0.573  ...  273.0     21.0  396.90   9.08  20.6\n",
            "503   0.06076   0.0  11.93   0.0  0.573  ...  273.0     21.0  396.90   5.64  23.9\n",
            "504   0.10959   0.0  11.93   0.0  0.573  ...  273.0     21.0  393.45   6.48  22.0\n",
            "505   0.04741   0.0  11.93   0.0  0.573  ...  273.0     21.0  396.90   7.88  11.9\n",
            "\n",
            "[506 rows x 14 columns]>\n",
            "Index(['CRIM', 'ZN', 'INDUS', 'CHAS', 'NOX', 'RM', 'AGE', 'DIS', 'RAD', 'TAX',\n",
            "       'PTRATIO', 'B', 'LSTAT', 'MEDV'],\n",
            "      dtype='object')\n"
          ],
          "name": "stdout"
        }
      ]
    },
    {
      "cell_type": "markdown",
      "metadata": {
        "id": "OeA7xh282X5i",
        "colab_type": "text"
      },
      "source": [
        "Let's see a scatter plot of two variables\n",
        "\n",
        "**Check for Linearity**\n",
        "\n",
        "In order to perfom linear regression in R, we will use the function linear_model.LinearRegression() to fit a simple linear regression with medv as the response (dependent variable) and lstat as the predictor or independent variable, and then save it in model.\n",
        "\n",
        "But before we run our model, let’s visually check if the relationship between x and y is linear."
      ]
    },
    {
      "cell_type": "code",
      "metadata": {
        "id": "PFXwZAGu2PnC",
        "colab_type": "code",
        "outputId": "2689992c-a1c5-41b0-9371-13ec76d3612a",
        "colab": {
          "base_uri": "https://localhost:8080/",
          "height": 301
        }
      },
      "source": [
        "plt.scatter(train[[\"LSTAT\"]], train[[\"MEDV\"]],  color='blue')\n",
        "plt.xlabel(\"LSTAT\")\n",
        "plt.ylabel(\"MEDV\")"
      ],
      "execution_count": 14,
      "outputs": [
        {
          "output_type": "execute_result",
          "data": {
            "text/plain": [
              "Text(0, 0.5, 'MEDV')"
            ]
          },
          "metadata": {
            "tags": []
          },
          "execution_count": 14
        },
        {
          "output_type": "display_data",
          "data": {
            "image/png": "[encoded data removed]",
            "text/plain": [
              "<Figure size 432x288 with 1 Axes>"
            ]
          },
          "metadata": {
            "tags": []
          }
        }
      ]
    },
    {
      "cell_type": "markdown",
      "metadata": {
        "id": "turgOKa12eIp",
        "colab_type": "text"
      },
      "source": [
        "Let's apply a logarithm on Lstat to have a linear relationship"
      ]
    },
    {
      "cell_type": "code",
      "metadata": {
        "id": "-PkRit0A2Mqe",
        "colab_type": "code",
        "outputId": "be3fe2ef-2cd6-4103-c544-efccba8437a5",
        "colab": {
          "base_uri": "https://localhost:8080/",
          "height": 301
        }
      },
      "source": [
        "plt.scatter(np.log(train[[\"LSTAT\"]]), train[[\"MEDV\"]],  color='blue')\n",
        "plt.xlabel(\"LSTAT\")\n",
        "plt.ylabel(\"MEDV\")"
      ],
      "execution_count": 15,
      "outputs": [
        {
          "output_type": "execute_result",
          "data": {
            "text/plain": [
              "Text(0, 0.5, 'MEDV')"
            ]
          },
          "metadata": {
            "tags": []
          },
          "execution_count": 15
        },
        {
          "output_type": "display_data",
          "data": {
            "image/png": "[encoded data removed]",
            "text/plain": [
              "<Figure size 432x288 with 1 Axes>"
            ]
          },
          "metadata": {
            "tags": []
          }
        }
      ]
    },
    {
      "cell_type": "markdown",
      "metadata": {
        "id": "kXwaYA0wH1sv",
        "colab_type": "text"
      },
      "source": [
        "Great. Now let's apply a linear regression."
      ]
    },
    {
      "cell_type": "markdown",
      "metadata": {
        "id": "GI4_8XRd3MRa",
        "colab_type": "text"
      },
      "source": [
        "###4.2 Regression"
      ]
    },
    {
      "cell_type": "code",
      "metadata": {
        "id": "ExpCvAz8kgyi",
        "colab_type": "code",
        "outputId": "3c63b36c-edb5-4e48-a33e-02755f30dea0",
        "colab": {
          "base_uri": "https://localhost:8080/",
          "height": 52
        }
      },
      "source": [
        "regr2 = linear_model.LinearRegression()\n",
        "train_x = np.asanyarray(np.log(train[[\"LSTAT\"]]))\n",
        "train_y = np.asanyarray(train[[\"MEDV\"]])\n",
        "regr2.fit (train_x, train_y)\n",
        "# The coefficients\n",
        "print ('Coefficients: ', regr2.coef_)\n",
        "print ('Intercept: ',regr2.intercept_)"
      ],
      "execution_count": 16,
      "outputs": [
        {
          "output_type": "stream",
          "text": [
            "Coefficients:  [[-12.5765353]]\n",
            "Intercept:  [52.43683298]\n"
          ],
          "name": "stdout"
        }
      ]
    },
    {
      "cell_type": "markdown",
      "metadata": {
        "id": "dR2c5qC0H9ls",
        "colab_type": "text"
      },
      "source": [
        "Let's plot the data with the regression line."
      ]
    },
    {
      "cell_type": "code",
      "metadata": {
        "id": "d8QaSdf_1Ktk",
        "colab_type": "code",
        "outputId": "390427f6-eafb-4812-f545-cf0d26746806",
        "colab": {
          "base_uri": "https://localhost:8080/",
          "height": 301
        }
      },
      "source": [
        "plt.scatter(np.log(train[[\"LSTAT\"]]), train[[\"MEDV\"]],  color='blue')\n",
        "plt.plot(train_x, regr2.coef_[0][0]*train_x + regr2.intercept_[0], '-r')\n",
        "plt.xlabel(\"LSTAT\")\n",
        "plt.ylabel(\"MEDV\")"
      ],
      "execution_count": 17,
      "outputs": [
        {
          "output_type": "execute_result",
          "data": {
            "text/plain": [
              "Text(0, 0.5, 'MEDV')"
            ]
          },
          "metadata": {
            "tags": []
          },
          "execution_count": 17
        },
        {
          "output_type": "display_data",
          "data": {
            "image/png": "[encoded data removed]",
            "text/plain": [
              "<Figure size 432x288 with 1 Axes>"
            ]
          },
          "metadata": {
            "tags": []
          }
        }
      ]
    },
    {
      "cell_type": "markdown",
      "metadata": {
        "id": "r11hS5NMIEQK",
        "colab_type": "text"
      },
      "source": [
        "### 4.3 Prediction\n",
        "We can now make some predictions. Note that we still need to apply our log function on the data we want to predict."
      ]
    },
    {
      "cell_type": "code",
      "metadata": {
        "id": "a552Ub6U7OnY",
        "colab_type": "code",
        "outputId": "8cdfed66-0bc5-4831-f58f-f5e59d05fed0",
        "colab": {
          "base_uri": "https://localhost:8080/",
          "height": 70
        }
      },
      "source": [
        "regr2.predict(np.log([[5],[10],[15]]))"
      ],
      "execution_count": 18,
      "outputs": [
        {
          "output_type": "execute_result",
          "data": {
            "text/plain": [
              "array([[32.19568025],\n",
              "       [23.47829027],\n",
              "       [18.37894402]])"
            ]
          },
          "metadata": {
            "tags": []
          },
          "execution_count": 18
        }
      ]
    },
    {
      "cell_type": "markdown",
      "metadata": {
        "id": "lO2GmyTsJeWb",
        "colab_type": "text"
      },
      "source": [
        "### 4.4 Evaluation\n",
        "OK now let's apply on our test set.\n",
        "\n",
        "Let's calculate the MSE and the R2."
      ]
    },
    {
      "cell_type": "code",
      "metadata": {
        "id": "pMRDu4jpomZs",
        "colab_type": "code",
        "outputId": "fba97707-8ba7-4b80-fea7-54f3428d6c19",
        "colab": {
          "base_uri": "https://localhost:8080/",
          "height": 70
        }
      },
      "source": [
        "from sklearn.metrics import r2_score\n",
        "\n",
        "test_x = np.asanyarray(np.log(test[[\"LSTAT\"]]))\n",
        "test_y = np.asanyarray(test[[\"MEDV\"]])\n",
        "y_hat = regr2.predict(test_x)\n",
        "\n",
        "print(\"Mean absolute error: %.2f\" % np.mean(np.absolute(y_hat - test_y)))\n",
        "print(\"Residual sum of squares (MSE): %.2f\" % np.mean((y_hat - test_y) ** 2))\n",
        "print(\"R2-score: %.2f\" % r2_score(y_hat , test_y) )"
      ],
      "execution_count": 19,
      "outputs": [
        {
          "output_type": "stream",
          "text": [
            "Mean absolute error: 3.67\n",
            "Residual sum of squares (MSE): 27.19\n",
            "R2-score: 0.47\n"
          ],
          "name": "stdout"
        }
      ]
    },
    {
      "cell_type": "markdown",
      "metadata": {
        "id": "A9-cuANhJo4q",
        "colab_type": "text"
      },
      "source": [
        "We can even plot the real and predicted data to compare if we want."
      ]
    },
    {
      "cell_type": "code",
      "metadata": {
        "id": "f8H4QMjL314c",
        "colab_type": "code",
        "outputId": "b4bb4e6b-38e2-4490-8df0-50e44e54d239",
        "colab": {
          "base_uri": "https://localhost:8080/",
          "height": 1000
        }
      },
      "source": [
        "print(test[[\"LSTAT\"]])\n",
        "print(test[[\"MEDV\"]])\n",
        "print(test_y)\n",
        "print(regr2.predict(test_x))"
      ],
      "execution_count": 20,
      "outputs": [
        {
          "output_type": "stream",
          "text": [
            "     LSTAT\n",
            "4     5.33\n",
            "7    19.15\n",
            "10   20.45\n",
            "11   13.27\n",
            "23   19.88\n",
            "28   12.80\n",
            "31   13.04\n",
            "41    4.84\n",
            "43    7.44\n",
            "50   13.45\n",
            "69    8.79\n",
            "79    9.10\n",
            "83    7.51\n",
            "85    6.53\n",
            "93    6.21\n",
            "96   11.34\n",
            "112  16.21\n",
            "113  17.09\n",
            "115  15.76\n",
            "120  14.37\n",
            "121  14.27\n",
            "127  17.19\n",
            "136  16.90\n",
            "141  34.41\n",
            "142  26.82\n",
            "149  21.45\n",
            "161   1.73\n",
            "171  12.03\n",
            "172  14.69\n",
            "176  10.11\n",
            "..     ...\n",
            "403  19.77\n",
            "405  22.98\n",
            "406  23.34\n",
            "408  26.40\n",
            "409  19.78\n",
            "416  25.79\n",
            "425  24.39\n",
            "426  15.69\n",
            "431  19.69\n",
            "436  18.05\n",
            "444  23.79\n",
            "446  17.79\n",
            "452  17.27\n",
            "461  14.65\n",
            "465  14.13\n",
            "470  16.29\n",
            "471  12.87\n",
            "472  14.36\n",
            "478  18.03\n",
            "479  13.11\n",
            "480  10.74\n",
            "482   7.01\n",
            "486  14.98\n",
            "489  23.97\n",
            "493  12.01\n",
            "494  13.59\n",
            "499  15.10\n",
            "502   9.08\n",
            "503   5.64\n",
            "504   6.48\n",
            "\n",
            "[96 rows x 1 columns]\n",
            "     MEDV\n",
            "4    36.2\n",
            "7    27.1\n",
            "10   15.0\n",
            "11   18.9\n",
            "23   14.5\n",
            "28   18.4\n",
            "31   14.5\n",
            "41   26.6\n",
            "43   24.7\n",
            "50   19.7\n",
            "69   20.9\n",
            "79   20.3\n",
            "83   22.9\n",
            "85   26.6\n",
            "93   25.0\n",
            "96   21.4\n",
            "112  18.8\n",
            "113  18.7\n",
            "115  18.3\n",
            "120  22.0\n",
            "121  20.3\n",
            "127  16.2\n",
            "136  17.4\n",
            "141  14.4\n",
            "142  13.4\n",
            "149  15.4\n",
            "161  50.0\n",
            "171  19.1\n",
            "172  23.1\n",
            "176  23.2\n",
            "..    ...\n",
            "403   8.3\n",
            "405   5.0\n",
            "406  11.9\n",
            "408  17.2\n",
            "409  27.5\n",
            "416   7.5\n",
            "425   8.3\n",
            "426  10.2\n",
            "431  14.1\n",
            "436   9.6\n",
            "444  10.8\n",
            "446  14.9\n",
            "452  16.1\n",
            "461  17.7\n",
            "465  19.9\n",
            "470  19.9\n",
            "471  19.6\n",
            "472  23.2\n",
            "478  14.6\n",
            "479  21.4\n",
            "480  23.0\n",
            "482  25.0\n",
            "486  19.1\n",
            "489   7.0\n",
            "493  21.8\n",
            "494  24.5\n",
            "499  17.5\n",
            "502  20.6\n",
            "503  23.9\n",
            "504  22.0\n",
            "\n",
            "[96 rows x 1 columns]\n",
            "[[36.2]\n",
            " [27.1]\n",
            " [15. ]\n",
            " [18.9]\n",
            " [14.5]\n",
            " [18.4]\n",
            " [14.5]\n",
            " [26.6]\n",
            " [24.7]\n",
            " [19.7]\n",
            " [20.9]\n",
            " [20.3]\n",
            " [22.9]\n",
            " [26.6]\n",
            " [25. ]\n",
            " [21.4]\n",
            " [18.8]\n",
            " [18.7]\n",
            " [18.3]\n",
            " [22. ]\n",
            " [20.3]\n",
            " [16.2]\n",
            " [17.4]\n",
            " [14.4]\n",
            " [13.4]\n",
            " [15.4]\n",
            " [50. ]\n",
            " [19.1]\n",
            " [23.1]\n",
            " [23.2]\n",
            " [24.6]\n",
            " [37.2]\n",
            " [24.4]\n",
            " [23.7]\n",
            " [21.5]\n",
            " [31.7]\n",
            " [41.7]\n",
            " [24. ]\n",
            " [22. ]\n",
            " [24.3]\n",
            " [24.5]\n",
            " [20.7]\n",
            " [24.4]\n",
            " [33.2]\n",
            " [22. ]\n",
            " [20.3]\n",
            " [22.8]\n",
            " [20.3]\n",
            " [23.8]\n",
            " [24.6]\n",
            " [17.1]\n",
            " [18.7]\n",
            " [17.5]\n",
            " [17.2]\n",
            " [18.6]\n",
            " [30.1]\n",
            " [27.5]\n",
            " [21.9]\n",
            " [50. ]\n",
            " [50. ]\n",
            " [13.3]\n",
            " [10.9]\n",
            " [ 7.4]\n",
            " [13.8]\n",
            " [ 5.6]\n",
            " [ 7.2]\n",
            " [ 8.3]\n",
            " [ 5. ]\n",
            " [11.9]\n",
            " [17.2]\n",
            " [27.5]\n",
            " [ 7.5]\n",
            " [ 8.3]\n",
            " [10.2]\n",
            " [14.1]\n",
            " [ 9.6]\n",
            " [10.8]\n",
            " [14.9]\n",
            " [16.1]\n",
            " [17.7]\n",
            " [19.9]\n",
            " [19.9]\n",
            " [19.6]\n",
            " [23.2]\n",
            " [14.6]\n",
            " [21.4]\n",
            " [23. ]\n",
            " [25. ]\n",
            " [19.1]\n",
            " [ 7. ]\n",
            " [21.8]\n",
            " [24.5]\n",
            " [17.5]\n",
            " [20.6]\n",
            " [23.9]\n",
            " [22. ]]\n",
            "[[31.39187206]\n",
            " [15.30709365]\n",
            " [14.48106471]\n",
            " [19.9201274 ]\n",
            " [14.83658678]\n",
            " [20.37364578]\n",
            " [20.14001922]\n",
            " [32.60470932]\n",
            " [27.1973509 ]\n",
            " [19.7506805 ]\n",
            " [25.10029082]\n",
            " [24.66439186]\n",
            " [27.07957646]\n",
            " [28.83813481]\n",
            " [29.470056  ]\n",
            " [21.8967758 ]\n",
            " [17.40327987]\n",
            " [16.73841931]\n",
            " [17.75735023]\n",
            " [18.91857172]\n",
            " [19.00639705]\n",
            " [16.66504375]\n",
            " [16.8790234 ]\n",
            " [ 7.93668426]\n",
            " [11.07074858]\n",
            " [13.88063875]\n",
            " [45.54336473]\n",
            " [21.15391467]\n",
            " [18.64158246]\n",
            " [23.34070373]\n",
            " [29.30907415]\n",
            " [32.09546829]\n",
            " [22.31396493]\n",
            " [ 9.85163124]\n",
            " [16.14199082]\n",
            " [31.58206903]\n",
            " [41.06490148]\n",
            " [22.41757084]\n",
            " [21.85249218]\n",
            " [24.58174182]\n",
            " [24.09693311]\n",
            " [19.56504561]\n",
            " [26.71644917]\n",
            " [29.79833657]\n",
            " [25.92818775]\n",
            " [17.69367144]\n",
            " [33.409453  ]\n",
            " [23.51607658]\n",
            " [24.41805359]\n",
            " [31.99604852]\n",
            " [20.74254406]\n",
            " [24.40450858]\n",
            " [22.82879732]\n",
            " [20.50202928]\n",
            " [26.61920743]\n",
            " [33.5207505 ]\n",
            " [27.75025467]\n",
            " [19.24663531]\n",
            " [38.78891183]\n",
            " [24.9721756 ]\n",
            " [14.00437235]\n",
            " [14.09946948]\n",
            " [ 8.85381383]\n",
            " [18.2372116 ]\n",
            " [11.09421665]\n",
            " [14.56126855]\n",
            " [14.90636849]\n",
            " [13.01412016]\n",
            " [12.81862603]\n",
            " [11.26925495]\n",
            " [14.90000868]\n",
            " [11.56325901]\n",
            " [12.26520081]\n",
            " [17.8133349 ]\n",
            " [14.95736313]\n",
            " [16.05108414]\n",
            " [12.57845574]\n",
            " [16.23355939]\n",
            " [16.60664998]\n",
            " [18.67587433]\n",
            " [19.13039206]\n",
            " [17.3413645 ]\n",
            " [20.30505524]\n",
            " [18.92732671]\n",
            " [16.06502708]\n",
            " [20.0726877 ]\n",
            " [22.58045146]\n",
            " [27.94607163]\n",
            " [18.39572393]\n",
            " [12.48365729]\n",
            " [21.17484069]\n",
            " [19.62044894]\n",
            " [18.2953787 ]\n",
            " [24.69206301]\n",
            " [30.68088496]\n",
            " [28.93480351]]\n"
          ],
          "name": "stdout"
        }
      ]
    },
    {
      "cell_type": "code",
      "metadata": {
        "id": "qfql8IIi__b0",
        "colab_type": "code",
        "colab": {}
      },
      "source": [
        ""
      ],
      "execution_count": 0,
      "outputs": []
    }
  ]
}