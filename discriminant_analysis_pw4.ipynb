{
  "nbformat": 4,
  "nbformat_minor": 0,
  "metadata": {
    "colab": {
      "name": "discriminant_analysis_pw4.ipynb",
      "version": "0.3.2",
      "provenance": [],
      "toc_visible": true,
      "include_colab_link": true
    },
    "kernelspec": {
      "name": "python3",
      "display_name": "Python 3"
    }
  },
  "cells": [
    {
      "cell_type": "markdown",
      "metadata": {
        "id": "view-in-github",
        "colab_type": "text"
      },
      "source": [
        "<a href=\"https://colab.research.google.com/github/AIKevin/machine_learning_with_python/blob/master/discriminant_analysis_pw4.ipynb\" target=\"_parent\"><img src=\"https://colab.research.google.com/assets/colab-badge.svg\" alt=\"Open In Colab\"/></a>"
      ]
    },
    {
      "cell_type": "markdown",
      "metadata": {
        "id": "OurUP-sH-7Rz",
        "colab_type": "text"
      },
      "source": [
        "#Discriminant Analysis\n",
        "##PW4\n",
        "###Sci-Kit Learn"
      ]
    },
    {
      "cell_type": "markdown",
      "metadata": {
        "id": "2P4cvFZ0xz5v",
        "colab_type": "text"
      },
      "source": [
        "##Introduction\n",
        "In this practical work, we will compare several classification models to see the difference of performance between them."
      ]
    },
    {
      "cell_type": "markdown",
      "metadata": {
        "id": "27djuAnDB1YP",
        "colab_type": "text"
      },
      "source": [
        "##Table of Contents\n",
        "\n",
        "\n",
        "1.   Installing Dependencies\n",
        "2.   Data Loading, Preprocessing and Visualisization\n",
        "3.   Logistic Regression, Prediction and Evaluation\n",
        "4.   Linear Discriminant Anlaysis\n",
        "5.   Quadratic Discriminant Analysis"
      ]
    },
    {
      "cell_type": "markdown",
      "metadata": {
        "id": "dHRpoFbTB50r",
        "colab_type": "text"
      },
      "source": [
        "## 1.Installig dependencies"
      ]
    },
    {
      "cell_type": "code",
      "metadata": {
        "id": "_n8nlmVa-z4e",
        "colab_type": "code",
        "colab": {}
      },
      "source": [
        "import matplotlib.pyplot as plt\n",
        "import pandas as pd\n",
        "import pylab as pl\n",
        "import numpy as np\n",
        "%matplotlib inline"
      ],
      "execution_count": 0,
      "outputs": []
    },
    {
      "cell_type": "markdown",
      "metadata": {
        "id": "nMhJd9PwCBec",
        "colab_type": "text"
      },
      "source": [
        "##2.Data Loading, Preprocessing and Visualization"
      ]
    },
    {
      "cell_type": "code",
      "metadata": {
        "id": "GPdV1VjqlY81",
        "colab_type": "code",
        "colab": {
          "base_uri": "https://localhost:8080/",
          "height": 87
        },
        "outputId": "2b1da16b-4c9c-4565-8be7-1406af9f1d1b"
      },
      "source": [
        "!git clone https://github.com/shivang98/Social-Network-ads-Boost"
      ],
      "execution_count": 5,
      "outputs": [
        {
          "output_type": "stream",
          "text": [
            "Cloning into 'Social-Network-ads-Boost'...\n",
            "remote: Enumerating objects: 7, done.\u001b[K\n",
            "remote: Total 7 (delta 0), reused 0 (delta 0), pack-reused 7\u001b[K\n",
            "Unpacking objects: 100% (7/7), done.\n"
          ],
          "name": "stdout"
        }
      ]
    },
    {
      "cell_type": "code",
      "metadata": {
        "id": "S3L5_P2OCF4x",
        "colab_type": "code",
        "outputId": "af57ccfc-774d-4f6d-b76a-3567a5cd421f",
        "colab": {
          "base_uri": "https://localhost:8080/",
          "height": 34
        }
      },
      "source": [
        "%%shell\n",
        "cd Social-Network-ads-Boost\n",
        "ls"
      ],
      "execution_count": 6,
      "outputs": [
        {
          "output_type": "stream",
          "text": [
            "random_forest_classification.py  README.md  Social_Network_Ads.csv\n"
          ],
          "name": "stdout"
        },
        {
          "output_type": "execute_result",
          "data": {
            "text/plain": [
              ""
            ]
          },
          "metadata": {
            "tags": []
          },
          "execution_count": 6
        }
      ]
    },
    {
      "cell_type": "markdown",
      "metadata": {
        "id": "RbE7RjsX6FVw",
        "colab_type": "text"
      },
      "source": [
        "###Dataset extraction and Preprocessing"
      ]
    },
    {
      "cell_type": "code",
      "metadata": {
        "id": "fSLpXlYkCGtJ",
        "colab_type": "code",
        "colab": {}
      },
      "source": [
        "dataset= pd.read_csv(\"Social-Network-ads-Boost/Social_Network_Ads.csv\")\n",
        "dataset.head()\n",
        "X = np.asarray(dataset[[ 'Age', 'EstimatedSalary']])\n",
        "y=np.asarray(dataset[\"Purchased\"])\n",
        "from sklearn import preprocessing\n",
        "X = preprocessing.StandardScaler().fit(X).transform(X)"
      ],
      "execution_count": 0,
      "outputs": []
    },
    {
      "cell_type": "markdown",
      "metadata": {
        "id": "RIVArjfo6NRx",
        "colab_type": "text"
      },
      "source": [
        "###Dataset Visualization"
      ]
    },
    {
      "cell_type": "code",
      "metadata": {
        "id": "ZhadezTMyTgs",
        "colab_type": "code",
        "colab": {
          "base_uri": "https://localhost:8080/",
          "height": 269
        },
        "outputId": "6b98c3d3-e9a7-4128-ab04-d4c8b7614144"
      },
      "source": [
        "from statsmodels.graphics.mosaicplot import mosaic\n",
        "data = pd.DataFrame({'Purchased':  np.asarray(dataset[ 'Purchased']), 'Gender':np.asarray(dataset[ 'Gender'])})\n",
        "mosaic(data,[\"Gender\",\"Purchased\"])\n",
        "plt.show()\n"
      ],
      "execution_count": 8,
      "outputs": [
        {
          "output_type": "display_data",
          "data": {
            "image/png": "[encoded data removed]",
            "text/plain": [
              "<Figure size 432x288 with 3 Axes>"
            ]
          },
          "metadata": {
            "tags": []
          }
        }
      ]
    },
    {
      "cell_type": "code",
      "metadata": {
        "id": "O9_aInGf2Hqx",
        "colab_type": "code",
        "colab": {
          "base_uri": "https://localhost:8080/",
          "height": 34
        },
        "outputId": "e2ead9ae-e714-4716-b5a7-22591b58fc9f"
      },
      "source": [
        "data[\"Gender\"]=pd.get_dummies(data[\"Gender\"])\n",
        "from scipy.stats import chisquare\n",
        "chisquare(data[[\"Purchased\",\"Gender\"]])"
      ],
      "execution_count": 9,
      "outputs": [
        {
          "output_type": "execute_result",
          "data": {
            "text/plain": [
              "Power_divergenceResult(statistic=array([257., 196.]), pvalue=array([1., 1.]))"
            ]
          },
          "metadata": {
            "tags": []
          },
          "execution_count": 9
        }
      ]
    },
    {
      "cell_type": "markdown",
      "metadata": {
        "id": "WPGPvp2-Eh3H",
        "colab_type": "text"
      },
      "source": [
        "### Data Split"
      ]
    },
    {
      "cell_type": "code",
      "metadata": {
        "id": "H265Q8sKEeeL",
        "colab_type": "code",
        "colab": {
          "base_uri": "https://localhost:8080/",
          "height": 52
        },
        "outputId": "c48ca8d4-4169-4693-98db-2ed853b2a60e"
      },
      "source": [
        "from sklearn.model_selection import train_test_split\n",
        "\n",
        "X_train, X_test, y_train, y_test = train_test_split( X, y, test_size=0.25, random_state=4)\n",
        "print ('Train set:', X_train.shape,  y_train.shape)\n",
        "print ('Test set:', X_test.shape,  y_test.shape)"
      ],
      "execution_count": 10,
      "outputs": [
        {
          "output_type": "stream",
          "text": [
            "Train set: (300, 2) (300,)\n",
            "Test set: (100, 2) (100,)\n"
          ],
          "name": "stdout"
        }
      ]
    },
    {
      "cell_type": "markdown",
      "metadata": {
        "id": "Qr2T8RVwO0tv",
        "colab_type": "text"
      },
      "source": [
        "##3.Logistic Regression, Prediction and Evaluation"
      ]
    },
    {
      "cell_type": "code",
      "metadata": {
        "id": "UgcEYe6iO1jw",
        "colab_type": "code",
        "colab": {
          "base_uri": "https://localhost:8080/",
          "height": 1000
        },
        "outputId": "9c4e5ea1-f597-433b-f9d5-a90ba6e4925b"
      },
      "source": [
        "from sklearn.linear_model import LogisticRegression\n",
        "from sklearn.metrics import confusion_matrix\n",
        "LR = LogisticRegression(C=0.01, solver='liblinear').fit(X_train,y_train)\n",
        "print(LR)\n",
        "yhat = LR.predict(X_test)\n",
        "print(yhat)\n",
        "yhat_prob = LR.predict_proba(X_test)\n",
        "print(yhat_prob)"
      ],
      "execution_count": 11,
      "outputs": [
        {
          "output_type": "stream",
          "text": [
            "LogisticRegression(C=0.01, class_weight=None, dual=False, fit_intercept=True,\n",
            "                   intercept_scaling=1, l1_ratio=None, max_iter=100,\n",
            "                   multi_class='warn', n_jobs=None, penalty='l2',\n",
            "                   random_state=None, solver='liblinear', tol=0.0001, verbose=0,\n",
            "                   warm_start=False)\n",
            "[0 0 0 0 0 1 1 1 1 0 0 0 0 0 0 0 0 0 0 0 0 0 0 1 0 1 0 0 0 0 0 0 0 0 1 0 1\n",
            " 0 0 0 1 0 0 0 0 0 0 0 1 1 0 0 0 1 1 0 1 0 0 1 1 0 0 0 0 0 0 0 1 1 0 1 0 1\n",
            " 1 0 0 0 0 1 0 0 1 0 0 0 0 0 1 0 1 0 0 1 0 0 0 0 0 1]\n",
            "[[0.6308339  0.3691661 ]\n",
            " [0.65396405 0.34603595]\n",
            " [0.67054985 0.32945015]\n",
            " [0.59162418 0.40837582]\n",
            " [0.64657917 0.35342083]\n",
            " [0.40844433 0.59155567]\n",
            " [0.41778098 0.58221902]\n",
            " [0.26243229 0.73756771]\n",
            " [0.38041539 0.61958461]\n",
            " [0.58966129 0.41033871]\n",
            " [0.57386015 0.42613985]\n",
            " [0.70683501 0.29316499]\n",
            " [0.68298024 0.31701976]\n",
            " [0.53537132 0.46462868]\n",
            " [0.55349142 0.44650858]\n",
            " [0.65125255 0.34874745]\n",
            " [0.72022093 0.27977907]\n",
            " [0.77659602 0.22340398]\n",
            " [0.73491826 0.26508174]\n",
            " [0.78784487 0.21215513]\n",
            " [0.60747925 0.39252075]\n",
            " [0.68787653 0.31212347]\n",
            " [0.74952483 0.25047517]\n",
            " [0.27292571 0.72707429]\n",
            " [0.51107349 0.48892651]\n",
            " [0.24053172 0.75946828]\n",
            " [0.63160045 0.36839955]\n",
            " [0.52337307 0.47662693]\n",
            " [0.81405043 0.18594957]\n",
            " [0.58612644 0.41387356]\n",
            " [0.56177253 0.43822747]\n",
            " [0.54879585 0.45120415]\n",
            " [0.74306484 0.25693516]\n",
            " [0.62742964 0.37257036]\n",
            " [0.4879288  0.5120712 ]\n",
            " [0.56617014 0.43382986]\n",
            " [0.35897124 0.64102876]\n",
            " [0.77518435 0.22481565]\n",
            " [0.55229857 0.44770143]\n",
            " [0.71626875 0.28373125]\n",
            " [0.46311806 0.53688194]\n",
            " [0.66502505 0.33497495]\n",
            " [0.77996602 0.22003398]\n",
            " [0.6948058  0.3051942 ]\n",
            " [0.54262196 0.45737804]\n",
            " [0.54558875 0.45441125]\n",
            " [0.70492163 0.29507837]\n",
            " [0.55603891 0.44396109]\n",
            " [0.43565287 0.56434713]\n",
            " [0.4341972  0.5658028 ]\n",
            " [0.61724465 0.38275535]\n",
            " [0.60102634 0.39897366]\n",
            " [0.57359169 0.42640831]\n",
            " [0.28258655 0.71741345]\n",
            " [0.36599442 0.63400558]\n",
            " [0.67291995 0.32708005]\n",
            " [0.46486414 0.53513586]\n",
            " [0.66090657 0.33909343]\n",
            " [0.52148449 0.47851551]\n",
            " [0.457176   0.542824  ]\n",
            " [0.39478822 0.60521178]\n",
            " [0.50578096 0.49421904]\n",
            " [0.69812224 0.30187776]\n",
            " [0.61147445 0.38852555]\n",
            " [0.64286005 0.35713995]\n",
            " [0.54988284 0.45011716]\n",
            " [0.74140661 0.25859339]\n",
            " [0.81899736 0.18100264]\n",
            " [0.44565756 0.55434244]\n",
            " [0.47954505 0.52045495]\n",
            " [0.75366202 0.24633798]\n",
            " [0.36185477 0.63814523]\n",
            " [0.54760072 0.45239928]\n",
            " [0.42889576 0.57110424]\n",
            " [0.24401615 0.75598385]\n",
            " [0.62107328 0.37892672]\n",
            " [0.51107349 0.48892651]\n",
            " [0.75845748 0.24154252]\n",
            " [0.59762711 0.40237289]\n",
            " [0.38617238 0.61382762]\n",
            " [0.61519491 0.38480509]\n",
            " [0.51189631 0.48810369]\n",
            " [0.43460174 0.56539826]\n",
            " [0.7374322  0.2625678 ]\n",
            " [0.59241955 0.40758045]\n",
            " [0.609544   0.390456  ]\n",
            " [0.57822753 0.42177247]\n",
            " [0.53872594 0.46127406]\n",
            " [0.48253081 0.51746919]\n",
            " [0.58992685 0.41007315]\n",
            " [0.2467177  0.7532823 ]\n",
            " [0.74056392 0.25943608]\n",
            " [0.68179071 0.31820929]\n",
            " [0.45344978 0.54655022]\n",
            " [0.74716908 0.25283092]\n",
            " [0.51660915 0.48339085]\n",
            " [0.52446823 0.47553177]\n",
            " [0.73681622 0.26318378]\n",
            " [0.54289437 0.45710563]\n",
            " [0.30230875 0.69769125]]\n"
          ],
          "name": "stdout"
        }
      ]
    },
    {
      "cell_type": "code",
      "metadata": {
        "id": "Tj2doPSoSH2i",
        "colab_type": "code",
        "colab": {
          "base_uri": "https://localhost:8080/",
          "height": 399
        },
        "outputId": "bfa27094-b835-4a25-9e1b-fecf92cbc720"
      },
      "source": [
        "from sklearn.metrics import classification_report, confusion_matrix\n",
        "import itertools\n",
        "def plot_confusion_matrix(cm, classes,\n",
        "                          normalize=False,\n",
        "                          title='Confusion matrix',\n",
        "                          cmap=plt.cm.Blues):\n",
        "    \"\"\"\n",
        "    This function prints and plots the confusion matrix.\n",
        "    Normalization can be applied by setting `normalize=True`.\n",
        "    \"\"\"\n",
        "    if normalize:\n",
        "        cm = cm.astype('float') / cm.sum(axis=1)[:, np.newaxis]\n",
        "        print(\"Normalized confusion matrix\")\n",
        "    else:\n",
        "        print('Confusion matrix, without normalization')\n",
        "\n",
        "    print(cm)\n",
        "\n",
        "    plt.imshow(cm, interpolation='nearest', cmap=cmap)\n",
        "    plt.title(title)\n",
        "    plt.colorbar()\n",
        "    tick_marks = np.arange(len(classes))\n",
        "    plt.xticks(tick_marks, classes, rotation=45)\n",
        "    plt.yticks(tick_marks, classes)\n",
        "\n",
        "    fmt = '.2f' if normalize else 'd'\n",
        "    thresh = cm.max() / 2.\n",
        "    for i, j in itertools.product(range(cm.shape[0]), range(cm.shape[1])):\n",
        "        plt.text(j, i, format(cm[i, j], fmt),\n",
        "                 horizontalalignment=\"center\",\n",
        "                 color=\"white\" if cm[i, j] > thresh else \"black\")\n",
        "\n",
        "    plt.tight_layout()\n",
        "    plt.ylabel('True label')\n",
        "    plt.xlabel('Predicted label')\n",
        "print(confusion_matrix(y_test, yhat, labels=[1,0]))\n",
        "cnf_matrix = confusion_matrix(y_test, yhat, labels=[1,0])\n",
        "np.set_printoptions(precision=2)\n",
        "plt.figure()\n",
        "plot_confusion_matrix(cnf_matrix, classes=['Purchased=1','Purchased=0'],normalize= False,  title='Confusion matrix')"
      ],
      "execution_count": 12,
      "outputs": [
        {
          "output_type": "stream",
          "text": [
            "[[22  8]\n",
            " [ 5 65]]\n",
            "Confusion matrix, without normalization\n",
            "[[22  8]\n",
            " [ 5 65]]\n"
          ],
          "name": "stdout"
        },
        {
          "output_type": "display_data",
          "data": {
            "image/png": "[encoded data removed]",
            "text/plain": [
              "<Figure size 432x288 with 2 Axes>"
            ]
          },
          "metadata": {
            "tags": []
          }
        }
      ]
    },
    {
      "cell_type": "code",
      "metadata": {
        "id": "30iXzmqNSMa-",
        "colab_type": "code",
        "colab": {
          "base_uri": "https://localhost:8080/",
          "height": 454
        },
        "outputId": "da491063-fc33-4a39-a947-b5ef096fc96c"
      },
      "source": [
        "print (classification_report(y_test, yhat))\n",
        "\n",
        "from sklearn.metrics import roc_curve, auc\n",
        "roc_curve(y_test, yhat)\n",
        "\n",
        "\n",
        "probs = yhat_prob\n",
        "preds = probs[:,1]\n",
        "fpr, tpr, threshold = roc_curve(y_test, preds)\n",
        "roc_auc = auc(fpr, tpr)\n",
        "\n",
        "import matplotlib.pyplot as plt\n",
        "plt.title('Receiver Operating Characteristic')\n",
        "plt.plot(fpr, tpr, 'b', label = 'AUC = %0.2f' % roc_auc)\n",
        "plt.legend(loc = 'lower right')\n",
        "plt.plot([0, 1], [0, 1],'r--')\n",
        "plt.xlim([0, 1])\n",
        "plt.ylim([0, 1])\n",
        "plt.ylabel('True Positive Rate')\n",
        "plt.xlabel('False Positive Rate')\n",
        "plt.show()"
      ],
      "execution_count": 13,
      "outputs": [
        {
          "output_type": "stream",
          "text": [
            "              precision    recall  f1-score   support\n",
            "\n",
            "           0       0.89      0.93      0.91        70\n",
            "           1       0.81      0.73      0.77        30\n",
            "\n",
            "    accuracy                           0.87       100\n",
            "   macro avg       0.85      0.83      0.84       100\n",
            "weighted avg       0.87      0.87      0.87       100\n",
            "\n"
          ],
          "name": "stdout"
        },
        {
          "output_type": "display_data",
          "data": {
            "image/png": "[encoded data removed]",
            "text/plain": [
              "<Figure size 432x288 with 1 Axes>"
            ]
          },
          "metadata": {
            "tags": []
          }
        }
      ]
    },
    {
      "cell_type": "markdown",
      "metadata": {
        "id": "j8c7AV_cURfP",
        "colab_type": "text"
      },
      "source": [
        "##4.Linear Discriminant Analysis"
      ]
    },
    {
      "cell_type": "code",
      "metadata": {
        "id": "YL89y1sQSfxH",
        "colab_type": "code",
        "colab": {}
      },
      "source": [
        "from sklearn.discriminant_analysis import LinearDiscriminantAnalysis"
      ],
      "execution_count": 0,
      "outputs": []
    },
    {
      "cell_type": "code",
      "metadata": {
        "id": "IwMBG8oAVSnf",
        "colab_type": "code",
        "colab": {
          "base_uri": "https://localhost:8080/",
          "height": 52
        },
        "outputId": "309ce32b-b64a-4529-e461-9fdef7740043"
      },
      "source": [
        "LDA=LinearDiscriminantAnalysis(solver='svd').fit(X_train,y_train)\n",
        "print(LDA)"
      ],
      "execution_count": 15,
      "outputs": [
        {
          "output_type": "stream",
          "text": [
            "LinearDiscriminantAnalysis(n_components=None, priors=None, shrinkage=None,\n",
            "                           solver='svd', store_covariance=False, tol=0.0001)\n"
          ],
          "name": "stdout"
        }
      ]
    },
    {
      "cell_type": "code",
      "metadata": {
        "id": "g9_stW5XV5mN",
        "colab_type": "code",
        "colab": {
          "base_uri": "https://localhost:8080/",
          "height": 34
        },
        "outputId": "69e7129a-751c-4b9a-ef71-f1d4b7de362d"
      },
      "source": [
        "print(LDA.coef_)"
      ],
      "execution_count": 16,
      "outputs": [
        {
          "output_type": "stream",
          "text": [
            "[[2.21 1.04]]\n"
          ],
          "name": "stdout"
        }
      ]
    },
    {
      "cell_type": "code",
      "metadata": {
        "id": "EQE6D1yoYBIu",
        "colab_type": "code",
        "colab": {
          "base_uri": "https://localhost:8080/",
          "height": 70
        },
        "outputId": "a67c51c9-3dda-47e8-9bf2-d12096c256b1"
      },
      "source": [
        "print(LDA.means_)\n",
        "print(LDA.priors_)\n"
      ],
      "execution_count": 17,
      "outputs": [
        {
          "output_type": "stream",
          "text": [
            "[[-0.45 -0.26]\n",
            " [ 0.84  0.48]]\n",
            "[0.62 0.38]\n"
          ],
          "name": "stdout"
        }
      ]
    },
    {
      "cell_type": "code",
      "metadata": {
        "id": "zVe_aENpYSpS",
        "colab_type": "code",
        "colab": {
          "base_uri": "https://localhost:8080/",
          "height": 70
        },
        "outputId": "bb79b3d0-090a-49da-9359-7d558be66909"
      },
      "source": [
        "yhat2=LDA.predict(X_test)\n",
        "print(yhat2)"
      ],
      "execution_count": 18,
      "outputs": [
        {
          "output_type": "stream",
          "text": [
            "[0 0 0 0 0 1 1 1 1 0 0 0 0 0 0 0 0 0 0 0 0 0 0 1 0 1 0 0 0 0 0 0 0 0 1 0 1\n",
            " 0 0 0 1 0 0 0 0 0 0 0 1 1 0 0 0 1 1 0 1 0 0 1 1 1 0 0 0 0 0 0 1 1 0 1 0 1\n",
            " 1 0 0 0 0 1 0 0 1 0 0 0 0 0 1 0 1 0 0 1 0 0 0 0 0 1]\n"
          ],
          "name": "stdout"
        }
      ]
    },
    {
      "cell_type": "code",
      "metadata": {
        "id": "npRWH_ZkZld9",
        "colab_type": "code",
        "colab": {
          "base_uri": "https://localhost:8080/",
          "height": 1000
        },
        "outputId": "26ce0aa8-9e79-486f-d6b3-61faffcf8e29"
      },
      "source": [
        "yhat_prob2 = LDA.predict_proba(X_test)\n",
        "print(yhat_prob2)"
      ],
      "execution_count": 19,
      "outputs": [
        {
          "output_type": "stream",
          "text": [
            "[[0.91 0.09]\n",
            " [0.95 0.05]\n",
            " [0.96 0.04]\n",
            " [0.83 0.17]\n",
            " [0.94 0.06]\n",
            " [0.16 0.84]\n",
            " [0.22 0.78]\n",
            " [0.02 0.98]\n",
            " [0.13 0.87]\n",
            " [0.82 0.18]\n",
            " [0.79 0.21]\n",
            " [0.98 0.02]\n",
            " [0.97 0.03]\n",
            " [0.65 0.35]\n",
            " [0.71 0.29]\n",
            " [0.93 0.07]\n",
            " [0.98 0.02]\n",
            " [0.99 0.01]\n",
            " [0.99 0.01]\n",
            " [1.   0.  ]\n",
            " [0.87 0.13]\n",
            " [0.97 0.03]\n",
            " [0.99 0.01]\n",
            " [0.02 0.98]\n",
            " [0.57 0.43]\n",
            " [0.01 0.99]\n",
            " [0.92 0.08]\n",
            " [0.62 0.38]\n",
            " [1.   0.  ]\n",
            " [0.83 0.17]\n",
            " [0.75 0.25]\n",
            " [0.67 0.33]\n",
            " [0.99 0.01]\n",
            " [0.91 0.09]\n",
            " [0.44 0.56]\n",
            " [0.77 0.23]\n",
            " [0.08 0.92]\n",
            " [0.99 0.01]\n",
            " [0.74 0.26]\n",
            " [0.98 0.02]\n",
            " [0.42 0.58]\n",
            " [0.96 0.04]\n",
            " [1.   0.  ]\n",
            " [0.97 0.03]\n",
            " [0.65 0.35]\n",
            " [0.69 0.31]\n",
            " [0.98 0.02]\n",
            " [0.74 0.26]\n",
            " [0.27 0.73]\n",
            " [0.29 0.71]\n",
            " [0.89 0.11]\n",
            " [0.88 0.12]\n",
            " [0.78 0.22]\n",
            " [0.02 0.98]\n",
            " [0.12 0.88]\n",
            " [0.95 0.05]\n",
            " [0.41 0.59]\n",
            " [0.95 0.05]\n",
            " [0.62 0.38]\n",
            " [0.32 0.68]\n",
            " [0.13 0.87]\n",
            " [0.49 0.51]\n",
            " [0.97 0.03]\n",
            " [0.88 0.12]\n",
            " [0.94 0.06]\n",
            " [0.72 0.28]\n",
            " [0.99 0.01]\n",
            " [1.   0.  ]\n",
            " [0.3  0.7 ]\n",
            " [0.4  0.6 ]\n",
            " [0.99 0.01]\n",
            " [0.1  0.9 ]\n",
            " [0.7  0.3 ]\n",
            " [0.29 0.71]\n",
            " [0.01 0.99]\n",
            " [0.89 0.11]\n",
            " [0.57 0.43]\n",
            " [0.99 0.01]\n",
            " [0.85 0.15]\n",
            " [0.14 0.86]\n",
            " [0.88 0.12]\n",
            " [0.61 0.39]\n",
            " [0.3  0.7 ]\n",
            " [0.99 0.01]\n",
            " [0.85 0.15]\n",
            " [0.87 0.13]\n",
            " [0.81 0.19]\n",
            " [0.64 0.36]\n",
            " [0.45 0.55]\n",
            " [0.83 0.17]\n",
            " [0.01 0.99]\n",
            " [0.99 0.01]\n",
            " [0.96 0.04]\n",
            " [0.4  0.6 ]\n",
            " [0.99 0.01]\n",
            " [0.56 0.44]\n",
            " [0.67 0.33]\n",
            " [0.99 0.01]\n",
            " [0.66 0.34]\n",
            " [0.04 0.96]]\n"
          ],
          "name": "stdout"
        }
      ]
    },
    {
      "cell_type": "code",
      "metadata": {
        "id": "L-0j1P63dXmv",
        "colab_type": "code",
        "colab": {
          "base_uri": "https://localhost:8080/",
          "height": 122
        },
        "outputId": "eda8f783-9146-43ed-9860-98c90eda063f"
      },
      "source": [
        "print(\"Confusion Matrix LR\\n\",confusion_matrix(y_test, yhat, labels=[1,0]))\n",
        "print(\"Confusion Matrix LDA\\n\",confusion_matrix(y_test, yhat2, labels=[1,0]))"
      ],
      "execution_count": 20,
      "outputs": [
        {
          "output_type": "stream",
          "text": [
            "Confusion Matrix LR\n",
            " [[22  8]\n",
            " [ 5 65]]\n",
            "Confusion Matrix LDA\n",
            " [[23  7]\n",
            " [ 5 65]]\n"
          ],
          "name": "stdout"
        }
      ]
    },
    {
      "cell_type": "code",
      "metadata": {
        "id": "LteP6A2zdiQz",
        "colab_type": "code",
        "colab": {
          "base_uri": "https://localhost:8080/",
          "height": 369
        },
        "outputId": "8553e9fb-a9b1-4f57-e301-a683662e7bde"
      },
      "source": [
        "print (\"Performance LR\\n\",classification_report(y_test, yhat))\n",
        "print (\"Performance LDA\\n\",classification_report(y_test, yhat2))"
      ],
      "execution_count": 21,
      "outputs": [
        {
          "output_type": "stream",
          "text": [
            "Performance LR\n",
            "               precision    recall  f1-score   support\n",
            "\n",
            "           0       0.89      0.93      0.91        70\n",
            "           1       0.81      0.73      0.77        30\n",
            "\n",
            "    accuracy                           0.87       100\n",
            "   macro avg       0.85      0.83      0.84       100\n",
            "weighted avg       0.87      0.87      0.87       100\n",
            "\n",
            "Performance LDA\n",
            "               precision    recall  f1-score   support\n",
            "\n",
            "           0       0.90      0.93      0.92        70\n",
            "           1       0.82      0.77      0.79        30\n",
            "\n",
            "    accuracy                           0.88       100\n",
            "   macro avg       0.86      0.85      0.85       100\n",
            "weighted avg       0.88      0.88      0.88       100\n",
            "\n"
          ],
          "name": "stdout"
        }
      ]
    },
    {
      "cell_type": "markdown",
      "metadata": {
        "id": "Cz40VPOcgL40",
        "colab_type": "text"
      },
      "source": [
        "Almost equal between logistic regression and linear discriminant analysis."
      ]
    },
    {
      "cell_type": "code",
      "metadata": {
        "id": "cFdOAxC7e2xi",
        "colab_type": "code",
        "colab": {
          "base_uri": "https://localhost:8080/",
          "height": 350
        },
        "outputId": "94468e35-2999-46fd-c7d8-bb11b618b862"
      },
      "source": [
        "from matplotlib.colors import ListedColormap\n",
        "X_set, y_set = X_test, y_test\n",
        " \n",
        "aranged_pc1 = np.arange(start = X_set[:, 0].min(), stop = X_set[:, 0].max(), step = 0.01)\n",
        "aranged_pc2 = np.arange(start = X_set[:, 1].min(), stop = X_set[:, 1].max(), step = 0.01)\n",
        " \n",
        "X1, X2 = np.meshgrid(aranged_pc1, aranged_pc2)\n",
        "plt.contourf(X1, X2, LDA.predict(np.array([X1.ravel(), X2.ravel()]).T).reshape(X1.shape),\n",
        "alpha = 0.5, cmap = ListedColormap(('orange', 'blue', 'green')))\n",
        " \n",
        "plt.xlim(X1.min(), X1.max())\n",
        "plt.ylim(X2.min(), X2.max())\n",
        "for i, j in enumerate(np.unique(y_set)):\n",
        "    plt.scatter(X_set[y_set == j, 0], X_set[y_set == j, 1],\n",
        "                c = ListedColormap(('red', 'green','blue'))(i), label = j)\n",
        "plt.title('Decision Boundary LDA')\n",
        "plt.xlabel('Age')\n",
        "plt.ylabel('EstimatedSalary')\n",
        "plt.legend()\n",
        "plt.show()"
      ],
      "execution_count": 22,
      "outputs": [
        {
          "output_type": "stream",
          "text": [
            "'c' argument looks like a single numeric RGB or RGBA sequence, which should be avoided as value-mapping will have precedence in case its length matches with 'x' & 'y'.  Please use a 2-D array with a single row if you really want to specify the same RGB or RGBA value for all points.\n",
            "'c' argument looks like a single numeric RGB or RGBA sequence, which should be avoided as value-mapping will have precedence in case its length matches with 'x' & 'y'.  Please use a 2-D array with a single row if you really want to specify the same RGB or RGBA value for all points.\n"
          ],
          "name": "stderr"
        },
        {
          "output_type": "display_data",
          "data": {
            "image/png": "[encoded data removed]",
            "text/plain": [
              "<Figure size 432x288 with 1 Axes>"
            ]
          },
          "metadata": {
            "tags": []
          }
        }
      ]
    },
    {
      "cell_type": "markdown",
      "metadata": {
        "id": "ysuPqgxIpjVD",
        "colab_type": "text"
      },
      "source": [
        "##5.Quadratic Discriminant Analysis"
      ]
    },
    {
      "cell_type": "code",
      "metadata": {
        "id": "1FFyqP6Rh8Vj",
        "colab_type": "code",
        "colab": {}
      },
      "source": [
        "from sklearn.discriminant_analysis import QuadraticDiscriminantAnalysis"
      ],
      "execution_count": 0,
      "outputs": []
    },
    {
      "cell_type": "code",
      "metadata": {
        "id": "bIlxN-8hp7Px",
        "colab_type": "code",
        "colab": {
          "base_uri": "https://localhost:8080/",
          "height": 52
        },
        "outputId": "5b42feef-a1a7-4d77-9e09-eef842b51a25"
      },
      "source": [
        "QDA=QuadraticDiscriminantAnalysis().fit(X_train,y_train)\n",
        "print(QDA)"
      ],
      "execution_count": 24,
      "outputs": [
        {
          "output_type": "stream",
          "text": [
            "QuadraticDiscriminantAnalysis(priors=None, reg_param=0.0,\n",
            "                              store_covariance=False, tol=0.0001)\n"
          ],
          "name": "stdout"
        }
      ]
    },
    {
      "cell_type": "code",
      "metadata": {
        "id": "zQsN4fwFqMCl",
        "colab_type": "code",
        "colab": {
          "base_uri": "https://localhost:8080/",
          "height": 105
        },
        "outputId": "50238456-dcc1-497e-dff4-59ff74bc24e6"
      },
      "source": [
        "print(\"QDA means\\n\",QDA.means_)\n",
        "print(\"QDA priors\\n\",QDA.priors_)"
      ],
      "execution_count": 25,
      "outputs": [
        {
          "output_type": "stream",
          "text": [
            "QDA means\n",
            " [[-0.45 -0.26]\n",
            " [ 0.84  0.48]]\n",
            "QDA priors\n",
            " [0.62 0.38]\n"
          ],
          "name": "stdout"
        }
      ]
    },
    {
      "cell_type": "code",
      "metadata": {
        "id": "47db5PUUqh-N",
        "colab_type": "code",
        "colab": {
          "base_uri": "https://localhost:8080/",
          "height": 1000
        },
        "outputId": "96a9ddf9-541e-459c-e753-d120fa9cd469"
      },
      "source": [
        "yhat3=QDA.predict(X_test)\n",
        "print(yhat3)\n",
        "yhat_prob3 = QDA.predict_proba(X_test)\n",
        "print(yhat_prob3)"
      ],
      "execution_count": 26,
      "outputs": [
        {
          "output_type": "stream",
          "text": [
            "[0 0 0 0 0 1 1 1 1 0 0 0 0 0 0 0 0 0 0 0 0 0 0 1 0 1 0 0 0 0 0 1 0 0 1 0 1\n",
            " 0 0 0 1 0 0 0 1 0 0 0 1 1 0 0 0 1 1 0 1 0 0 1 1 1 0 0 0 0 0 0 1 1 0 1 0 1\n",
            " 1 0 0 0 0 1 0 0 1 0 0 0 0 1 0 0 1 0 0 1 0 0 1 0 1 1]\n",
            "[[9.58e-01 4.23e-02]\n",
            " [9.58e-01 4.24e-02]\n",
            " [9.62e-01 3.77e-02]\n",
            " [8.88e-01 1.12e-01]\n",
            " [9.44e-01 5.61e-02]\n",
            " [1.34e-02 9.87e-01]\n",
            " [3.55e-01 6.45e-01]\n",
            " [1.74e-02 9.83e-01]\n",
            " [2.31e-01 7.69e-01]\n",
            " [8.87e-01 1.13e-01]\n",
            " [8.73e-01 1.27e-01]\n",
            " [9.92e-01 8.20e-03]\n",
            " [9.77e-01 2.26e-02]\n",
            " [7.62e-01 2.38e-01]\n",
            " [7.78e-01 2.22e-01]\n",
            " [9.63e-01 3.74e-02]\n",
            " [9.94e-01 5.92e-03]\n",
            " [9.97e-01 2.74e-03]\n",
            " [9.96e-01 4.15e-03]\n",
            " [9.99e-01 1.46e-03]\n",
            " [9.26e-01 7.36e-02]\n",
            " [9.87e-01 1.28e-02]\n",
            " [9.92e-01 7.70e-03]\n",
            " [4.57e-02 9.54e-01]\n",
            " [7.14e-01 2.86e-01]\n",
            " [2.55e-02 9.74e-01]\n",
            " [8.99e-01 1.01e-01]\n",
            " [7.57e-01 2.43e-01]\n",
            " [1.00e+00 4.42e-04]\n",
            " [9.06e-01 9.43e-02]\n",
            " [8.43e-01 1.57e-01]\n",
            " [3.35e-01 6.65e-01]\n",
            " [9.95e-01 4.51e-03]\n",
            " [9.44e-01 5.58e-02]\n",
            " [3.96e-01 6.04e-01]\n",
            " [8.68e-01 1.32e-01]\n",
            " [1.12e-01 8.88e-01]\n",
            " [9.97e-01 2.74e-03]\n",
            " [8.07e-01 1.93e-01]\n",
            " [9.80e-01 1.97e-02]\n",
            " [1.67e-01 8.33e-01]\n",
            " [9.64e-01 3.57e-02]\n",
            " [9.99e-01 1.16e-03]\n",
            " [9.89e-01 1.09e-02]\n",
            " [2.42e-01 7.58e-01]\n",
            " [8.02e-01 1.98e-01]\n",
            " [9.90e-01 9.67e-03]\n",
            " [8.48e-01 1.52e-01]\n",
            " [4.14e-01 5.86e-01]\n",
            " [3.44e-01 6.56e-01]\n",
            " [9.41e-01 5.92e-02]\n",
            " [5.44e-01 4.56e-01]\n",
            " [8.24e-01 1.76e-01]\n",
            " [4.01e-02 9.60e-01]\n",
            " [5.35e-02 9.46e-01]\n",
            " [9.52e-01 4.80e-02]\n",
            " [3.30e-01 6.70e-01]\n",
            " [9.77e-01 2.30e-02]\n",
            " [7.51e-01 2.49e-01]\n",
            " [2.07e-01 7.93e-01]\n",
            " [1.94e-02 9.81e-01]\n",
            " [1.01e-01 8.99e-01]\n",
            " [9.89e-01 1.07e-02]\n",
            " [9.37e-01 6.35e-02]\n",
            " [9.35e-01 6.48e-02]\n",
            " [8.33e-01 1.67e-01]\n",
            " [9.96e-01 4.05e-03]\n",
            " [1.00e+00 3.43e-04]\n",
            " [4.40e-01 5.60e-01]\n",
            " [2.38e-01 7.62e-01]\n",
            " [9.97e-01 2.57e-03]\n",
            " [1.20e-01 8.80e-01]\n",
            " [8.04e-01 1.96e-01]\n",
            " [5.79e-02 9.42e-01]\n",
            " [6.91e-03 9.93e-01]\n",
            " [9.43e-01 5.68e-02]\n",
            " [7.14e-01 2.86e-01]\n",
            " [9.97e-01 3.47e-03]\n",
            " [9.08e-01 9.18e-02]\n",
            " [2.45e-01 7.55e-01]\n",
            " [9.31e-01 6.89e-02]\n",
            " [5.17e-01 4.83e-01]\n",
            " [1.75e-01 8.25e-01]\n",
            " [9.90e-01 1.03e-02]\n",
            " [8.90e-01 1.10e-01]\n",
            " [9.35e-01 6.51e-02]\n",
            " [8.90e-01 1.10e-01]\n",
            " [3.73e-01 6.27e-01]\n",
            " [6.12e-01 3.88e-01]\n",
            " [9.10e-01 9.01e-02]\n",
            " [2.17e-02 9.78e-01]\n",
            " [9.90e-01 1.04e-02]\n",
            " [9.49e-01 5.06e-02]\n",
            " [1.87e-02 9.81e-01]\n",
            " [9.97e-01 3.48e-03]\n",
            " [5.32e-01 4.68e-01]\n",
            " [3.46e-01 6.54e-01]\n",
            " [9.94e-01 5.97e-03]\n",
            " [4.77e-01 5.23e-01]\n",
            " [2.40e-02 9.76e-01]]\n"
          ],
          "name": "stdout"
        }
      ]
    },
    {
      "cell_type": "code",
      "metadata": {
        "id": "Kj1SdK3Tron9",
        "colab_type": "code",
        "colab": {
          "base_uri": "https://localhost:8080/",
          "height": 70
        },
        "outputId": "b3607206-0b4a-489d-8646-82d931214f02"
      },
      "source": [
        "print(\"Confusion Matrix QDA\\n\",confusion_matrix(y_test, yhat3, labels=[1,0]))"
      ],
      "execution_count": 27,
      "outputs": [
        {
          "output_type": "stream",
          "text": [
            "Confusion Matrix QDA\n",
            " [[27  3]\n",
            " [ 5 65]]\n"
          ],
          "name": "stdout"
        }
      ]
    },
    {
      "cell_type": "code",
      "metadata": {
        "id": "GwbAkmHmrwtN",
        "colab_type": "code",
        "colab": {
          "base_uri": "https://localhost:8080/",
          "height": 193
        },
        "outputId": "bb7deb5a-fca3-400e-b4fb-0b5a07694d68"
      },
      "source": [
        "print (\"Performance QDA\\n\",classification_report(y_test, yhat3))"
      ],
      "execution_count": 28,
      "outputs": [
        {
          "output_type": "stream",
          "text": [
            "Performance QDA\n",
            "               precision    recall  f1-score   support\n",
            "\n",
            "           0       0.96      0.93      0.94        70\n",
            "           1       0.84      0.90      0.87        30\n",
            "\n",
            "    accuracy                           0.92       100\n",
            "   macro avg       0.90      0.91      0.91       100\n",
            "weighted avg       0.92      0.92      0.92       100\n",
            "\n"
          ],
          "name": "stdout"
        }
      ]
    },
    {
      "cell_type": "code",
      "metadata": {
        "id": "f4Fum5fnr-zE",
        "colab_type": "code",
        "colab": {
          "base_uri": "https://localhost:8080/",
          "height": 350
        },
        "outputId": "3714af9e-1f5a-4c26-d4e2-44abcaa265e1"
      },
      "source": [
        "from matplotlib.colors import ListedColormap\n",
        "X_set, y_set = X_test, y_test\n",
        " \n",
        "aranged_pc1 = np.arange(start = X_set[:, 0].min(), stop = X_set[:, 0].max(), step = 0.01)\n",
        "aranged_pc2 = np.arange(start = X_set[:, 1].min(), stop = X_set[:, 1].max(), step = 0.01)\n",
        " \n",
        "X1, X2 = np.meshgrid(aranged_pc1, aranged_pc2)\n",
        "plt.contourf(X1, X2, QDA.predict(np.array([X1.ravel(), X2.ravel()]).T).reshape(X1.shape),\n",
        "alpha = 0.5, cmap = ListedColormap(('orange', 'blue', 'green')))\n",
        " \n",
        "plt.xlim(X1.min(), X1.max())\n",
        "plt.ylim(X2.min(), X2.max())\n",
        "for i, j in enumerate(np.unique(y_set)):\n",
        "    plt.scatter(X_set[y_set == j, 0], X_set[y_set == j, 1],\n",
        "                c = ListedColormap(('red', 'green','blue'))(i), label = j)\n",
        "plt.title('Decision Boundary QDA')\n",
        "plt.xlabel('Age')\n",
        "plt.ylabel('EstimatedSalary')\n",
        "plt.legend()\n",
        "plt.show()"
      ],
      "execution_count": 29,
      "outputs": [
        {
          "output_type": "stream",
          "text": [
            "'c' argument looks like a single numeric RGB or RGBA sequence, which should be avoided as value-mapping will have precedence in case its length matches with 'x' & 'y'.  Please use a 2-D array with a single row if you really want to specify the same RGB or RGBA value for all points.\n",
            "'c' argument looks like a single numeric RGB or RGBA sequence, which should be avoided as value-mapping will have precedence in case its length matches with 'x' & 'y'.  Please use a 2-D array with a single row if you really want to specify the same RGB or RGBA value for all points.\n"
          ],
          "name": "stderr"
        },
        {
          "output_type": "display_data",
          "data": {
            "image/png": "[encoded data removed]",
            "text/plain": [
              "<Figure size 432x288 with 1 Axes>"
            ]
          },
          "metadata": {
            "tags": []
          }
        }
      ]
    },
    {
      "cell_type": "code",
      "metadata": {
        "id": "XGHm07FbsOSp",
        "colab_type": "code",
        "colab": {
          "base_uri": "https://localhost:8080/",
          "height": 295
        },
        "outputId": "36e02b63-8d86-4aa3-e29b-f99aa7305979"
      },
      "source": [
        "probs1 = yhat_prob\n",
        "probs2= yhat_prob2\n",
        "probs3= yhat_prob3\n",
        "preds1 = probs1[:,1]\n",
        "preds2 = probs2[:,1]\n",
        "preds3 = probs3[:,1]\n",
        "fpr1, tpr1, threshold = roc_curve(y_test, preds1)\n",
        "roc_auc1 = auc(fpr1, tpr1)\n",
        "fpr2, tpr2, threshold = roc_curve(y_test, preds2)\n",
        "roc_auc2 = auc(fpr2, tpr2)\n",
        "fpr3, tpr3, threshold = roc_curve(y_test, preds3)\n",
        "roc_auc3 = auc(fpr3, tpr3)\n",
        "\n",
        "# method I: plt\n",
        "import matplotlib.pyplot as plt\n",
        "plt.title('Receiver Operating Characteristic')\n",
        "plt.plot(fpr1, tpr1, 'b', label = 'AUC LR = %0.2f' % roc_auc1)\n",
        "plt.plot(fpr2, tpr2, 'r', label = 'AUC LDA = %0.2f' % roc_auc2)\n",
        "plt.plot(fpr3, tpr3, 'g', label = 'AUC QDA = %0.2f' % roc_auc3)\n",
        "plt.legend(loc = 'lower right')\n",
        "plt.plot([0, 1], [0, 1],'r--')\n",
        "plt.xlim([0, 1])\n",
        "plt.ylim([0, 1])\n",
        "plt.ylabel('True Positive Rate')\n",
        "plt.xlabel('False Positive Rate')\n",
        "plt.show()\n"
      ],
      "execution_count": 30,
      "outputs": [
        {
          "output_type": "display_data",
          "data": {
            "image/png": "[encoded data removed]",
            "text/plain": [
              "<Figure size 432x288 with 1 Axes>"
            ]
          },
          "metadata": {
            "tags": []
          }
        }
      ]
    },
    {
      "cell_type": "markdown",
      "metadata": {
        "id": "mzlAf4lpwVns",
        "colab_type": "text"
      },
      "source": [
        "\n",
        "The Logistic Regression and Linear Discriminant Analysis models have a similar AUC and and a similar ROC Curve.\n",
        "\n",
        "The Quadratic Model has a higher AUC and the Roc Curve is higher. It has a better accuracy.\n",
        "\n",
        "The 3 models are relevant because their AUC is >0.8."
      ]
    },
    {
      "cell_type": "code",
      "metadata": {
        "id": "cGrXUrhywFZz",
        "colab_type": "code",
        "colab": {}
      },
      "source": [
        ""
      ],
      "execution_count": 0,
      "outputs": []
    }
  ]
}